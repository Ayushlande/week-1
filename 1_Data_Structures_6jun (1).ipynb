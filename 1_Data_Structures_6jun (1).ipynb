{
 "cells": [
  {
   "cell_type": "code",
   "execution_count": 1,
   "id": "53d2b81e-6caf-4178-89b9-1f5d6edfe938",
   "metadata": {},
   "outputs": [],
   "source": [
    "## List"
   ]
  },
  {
   "cell_type": "code",
   "execution_count": 2,
   "id": "87ca7026-73d5-46ca-b8cb-b203ad3faaad",
   "metadata": {},
   "outputs": [],
   "source": [
    "l = [12, 23, 34, 45, 17]"
   ]
  },
  {
   "cell_type": "code",
   "execution_count": 3,
   "id": "e72a30a7-7c3f-40cc-8e28-b94446a06028",
   "metadata": {},
   "outputs": [
    {
     "name": "stdout",
     "output_type": "stream",
     "text": [
      "[12, 23, 34, 45, 17]\n"
     ]
    }
   ],
   "source": [
    "print(l)"
   ]
  },
  {
   "cell_type": "code",
   "execution_count": 4,
   "id": "57ab6d00-a877-4604-b262-6e95a24bbdd4",
   "metadata": {},
   "outputs": [
    {
     "data": {
      "text/plain": [
       "list"
      ]
     },
     "execution_count": 4,
     "metadata": {},
     "output_type": "execute_result"
    }
   ],
   "source": [
    "type(l)"
   ]
  },
  {
   "cell_type": "code",
   "execution_count": 5,
   "id": "7f6f5abb-bbea-46d6-9d07-dfbf0e37929a",
   "metadata": {},
   "outputs": [],
   "source": [
    "l = [12, 23, 34, 45, 17, 12]"
   ]
  },
  {
   "cell_type": "code",
   "execution_count": 6,
   "id": "5ddf3290-7a8e-4222-a64e-de065e4850fb",
   "metadata": {},
   "outputs": [
    {
     "name": "stdout",
     "output_type": "stream",
     "text": [
      "[12, 23, 34, 45, 17, 12]\n"
     ]
    }
   ],
   "source": [
    "print(l)"
   ]
  },
  {
   "cell_type": "code",
   "execution_count": 7,
   "id": "34606b21-3bc6-4e6d-bf60-f52443e93dd0",
   "metadata": {},
   "outputs": [],
   "source": [
    "l = [12, 23, 34, 45, 17, 12, 'Adi', True]"
   ]
  },
  {
   "cell_type": "code",
   "execution_count": 8,
   "id": "656b0c7d-07df-441b-ae47-987566f38986",
   "metadata": {},
   "outputs": [
    {
     "name": "stdout",
     "output_type": "stream",
     "text": [
      "[12, 23, 34, 45, 17, 12, 'Adi', True]\n"
     ]
    }
   ],
   "source": [
    "print(l)"
   ]
  },
  {
   "cell_type": "code",
   "execution_count": 9,
   "id": "b7fabe44-af21-47a6-b627-d99ca155f337",
   "metadata": {},
   "outputs": [
    {
     "data": {
      "text/plain": [
       "12"
      ]
     },
     "execution_count": 9,
     "metadata": {},
     "output_type": "execute_result"
    }
   ],
   "source": [
    "# access the data\n",
    "\n",
    "l[0]"
   ]
  },
  {
   "cell_type": "code",
   "execution_count": 10,
   "id": "b8e05dd7-e745-42d0-8a05-5a2edd2ce00f",
   "metadata": {},
   "outputs": [
    {
     "data": {
      "text/plain": [
       "12"
      ]
     },
     "execution_count": 10,
     "metadata": {},
     "output_type": "execute_result"
    }
   ],
   "source": [
    "l[5]"
   ]
  },
  {
   "cell_type": "code",
   "execution_count": 11,
   "id": "f8810921-16be-4f88-af5b-b46f430e68f6",
   "metadata": {},
   "outputs": [
    {
     "data": {
      "text/plain": [
       "True"
      ]
     },
     "execution_count": 11,
     "metadata": {},
     "output_type": "execute_result"
    }
   ],
   "source": [
    "l[-1]"
   ]
  },
  {
   "cell_type": "code",
   "execution_count": 12,
   "id": "28137014-d37c-4148-ad84-857b60514e66",
   "metadata": {},
   "outputs": [],
   "source": [
    "l[-1] = 57   # changing the value => mutable"
   ]
  },
  {
   "cell_type": "code",
   "execution_count": 13,
   "id": "361db321-6a92-4719-9f81-dc0d7da2eb49",
   "metadata": {},
   "outputs": [
    {
     "data": {
      "text/plain": [
       "[12, 23, 34, 45, 17, 12, 'Adi', 57]"
      ]
     },
     "execution_count": 13,
     "metadata": {},
     "output_type": "execute_result"
    }
   ],
   "source": [
    "l"
   ]
  },
  {
   "cell_type": "code",
   "execution_count": 15,
   "id": "89d02ef3-7e4b-4ad1-9b56-7fdc07af5120",
   "metadata": {},
   "outputs": [
    {
     "data": {
      "text/plain": [
       "[12, 23, 34, 45, 17, 12, 10, 57]"
      ]
     },
     "execution_count": 15,
     "metadata": {},
     "output_type": "execute_result"
    }
   ],
   "source": [
    "l[-2] = 10\n",
    "l"
   ]
  },
  {
   "cell_type": "code",
   "execution_count": 16,
   "id": "a3dcde34-c0a2-4a3c-8c6c-6c2fdf45bca9",
   "metadata": {},
   "outputs": [],
   "source": [
    "## LIST SLICING"
   ]
  },
  {
   "cell_type": "code",
   "execution_count": 17,
   "id": "f3cf9272-8f83-4c5d-ab95-d32234855076",
   "metadata": {},
   "outputs": [
    {
     "data": {
      "text/plain": [
       "[12, 23, 34, 45, 17, 12, 10, 57]"
      ]
     },
     "execution_count": 17,
     "metadata": {},
     "output_type": "execute_result"
    }
   ],
   "source": [
    "l"
   ]
  },
  {
   "cell_type": "code",
   "execution_count": 18,
   "id": "8d09906c-9e50-45dc-bb4f-3e7960c17248",
   "metadata": {},
   "outputs": [
    {
     "data": {
      "text/plain": [
       "[34, 45, 17, 12]"
      ]
     },
     "execution_count": 18,
     "metadata": {},
     "output_type": "execute_result"
    }
   ],
   "source": [
    "l[2:6]"
   ]
  },
  {
   "cell_type": "code",
   "execution_count": 20,
   "id": "5ab5a88c-c2ac-43b7-be76-d502f9120dbd",
   "metadata": {},
   "outputs": [
    {
     "data": {
      "text/plain": [
       "[34, 45, 17, 12]"
      ]
     },
     "execution_count": 20,
     "metadata": {},
     "output_type": "execute_result"
    }
   ],
   "source": [
    "x = l[2:6]\n",
    "x"
   ]
  },
  {
   "cell_type": "code",
   "execution_count": 21,
   "id": "39bc445b-d367-49b7-a28f-5b6da655e589",
   "metadata": {},
   "outputs": [
    {
     "data": {
      "text/plain": [
       "[34, 45, 17, 12, 10, 57]"
      ]
     },
     "execution_count": 21,
     "metadata": {},
     "output_type": "execute_result"
    }
   ],
   "source": [
    "l[2:]"
   ]
  },
  {
   "cell_type": "code",
   "execution_count": 22,
   "id": "0276b529-934c-4c09-b710-12de58c048dd",
   "metadata": {},
   "outputs": [
    {
     "data": {
      "text/plain": [
       "[12, 23, 34, 45, 17, 12]"
      ]
     },
     "execution_count": 22,
     "metadata": {},
     "output_type": "execute_result"
    }
   ],
   "source": [
    "l[:-2]"
   ]
  },
  {
   "cell_type": "code",
   "execution_count": 23,
   "id": "d258e6f6-6b2e-4d02-ae31-62cb5170e11c",
   "metadata": {},
   "outputs": [
    {
     "data": {
      "text/plain": [
       "[23, 45]"
      ]
     },
     "execution_count": 23,
     "metadata": {},
     "output_type": "execute_result"
    }
   ],
   "source": [
    "l[1:-3:2]"
   ]
  },
  {
   "cell_type": "code",
   "execution_count": 24,
   "id": "506ea835-85b2-4c77-8a83-f187ec2b1d5d",
   "metadata": {},
   "outputs": [
    {
     "data": {
      "text/plain": [
       "[23, 17]"
      ]
     },
     "execution_count": 24,
     "metadata": {},
     "output_type": "execute_result"
    }
   ],
   "source": [
    "l[1:-1:3]"
   ]
  },
  {
   "cell_type": "code",
   "execution_count": 25,
   "id": "795df08c-e72a-4192-8c14-4b1eb2492c44",
   "metadata": {},
   "outputs": [
    {
     "data": {
      "text/plain": [
       "[12, 34, 17, 10]"
      ]
     },
     "execution_count": 25,
     "metadata": {},
     "output_type": "execute_result"
    }
   ],
   "source": [
    "l[::2]"
   ]
  },
  {
   "cell_type": "code",
   "execution_count": 26,
   "id": "b6312d75-0dba-49d8-a9f6-a0297637cf69",
   "metadata": {},
   "outputs": [
    {
     "data": {
      "text/plain": [
       "[12, 23, 34, 45, 17, 12, 10, 57]"
      ]
     },
     "execution_count": 26,
     "metadata": {},
     "output_type": "execute_result"
    }
   ],
   "source": [
    "l"
   ]
  },
  {
   "cell_type": "code",
   "execution_count": 28,
   "id": "e2d681e4-4635-4cab-9c23-e1d06ffa8867",
   "metadata": {},
   "outputs": [],
   "source": [
    "l[1:4] = [45, 67, 82]"
   ]
  },
  {
   "cell_type": "code",
   "execution_count": 29,
   "id": "8aa50490-6ea3-4e12-a5a3-35d1c8b37960",
   "metadata": {},
   "outputs": [
    {
     "data": {
      "text/plain": [
       "[12, 45, 67, 82, 17, 12, 10, 57]"
      ]
     },
     "execution_count": 29,
     "metadata": {},
     "output_type": "execute_result"
    }
   ],
   "source": [
    "l"
   ]
  },
  {
   "cell_type": "code",
   "execution_count": 30,
   "id": "7dece3ce-0008-44f5-bb11-e354216b2653",
   "metadata": {},
   "outputs": [],
   "source": [
    "# Delete the data"
   ]
  },
  {
   "cell_type": "code",
   "execution_count": 31,
   "id": "ee0e3e2f-a1ef-409b-9ee4-c666a64e1d10",
   "metadata": {},
   "outputs": [],
   "source": [
    "del l[1]"
   ]
  },
  {
   "cell_type": "code",
   "execution_count": 32,
   "id": "febc7f20-1900-4d54-961a-861c051ecbe2",
   "metadata": {},
   "outputs": [
    {
     "data": {
      "text/plain": [
       "[12, 67, 82, 17, 12, 10, 57]"
      ]
     },
     "execution_count": 32,
     "metadata": {},
     "output_type": "execute_result"
    }
   ],
   "source": [
    "l"
   ]
  },
  {
   "cell_type": "code",
   "execution_count": 33,
   "id": "26f70521-d2b9-4dab-9d8d-9e615cd51914",
   "metadata": {},
   "outputs": [],
   "source": [
    "new = [34, 32, 56]"
   ]
  },
  {
   "cell_type": "code",
   "execution_count": 34,
   "id": "04761b6a-8186-4dc0-8e7d-c85beb769081",
   "metadata": {},
   "outputs": [],
   "source": [
    "del new"
   ]
  },
  {
   "cell_type": "code",
   "execution_count": 35,
   "id": "901c9d6b-3f4f-4326-ba1f-1c1ab146a017",
   "metadata": {},
   "outputs": [
    {
     "ename": "NameError",
     "evalue": "name 'new' is not defined",
     "output_type": "error",
     "traceback": [
      "\u001b[1;31m---------------------------------------------------------------------------\u001b[0m",
      "\u001b[1;31mNameError\u001b[0m                                 Traceback (most recent call last)",
      "Cell \u001b[1;32mIn[35], line 1\u001b[0m\n\u001b[1;32m----> 1\u001b[0m new\n",
      "\u001b[1;31mNameError\u001b[0m: name 'new' is not defined"
     ]
    }
   ],
   "source": [
    "new"
   ]
  },
  {
   "cell_type": "code",
   "execution_count": 36,
   "id": "061fafdb-3afa-4626-8365-e6e5a280c4ac",
   "metadata": {},
   "outputs": [],
   "source": [
    "# in operator"
   ]
  },
  {
   "cell_type": "code",
   "execution_count": 37,
   "id": "1809ed0b-43ef-4dcd-ba8e-d6351afc6873",
   "metadata": {},
   "outputs": [
    {
     "data": {
      "text/plain": [
       "[12, 67, 82, 17, 12, 10, 57]"
      ]
     },
     "execution_count": 37,
     "metadata": {},
     "output_type": "execute_result"
    }
   ],
   "source": [
    "l"
   ]
  },
  {
   "cell_type": "code",
   "execution_count": 38,
   "id": "f26d7be6-a0a2-4635-86b3-4760d2cdec9e",
   "metadata": {},
   "outputs": [
    {
     "data": {
      "text/plain": [
       "True"
      ]
     },
     "execution_count": 38,
     "metadata": {},
     "output_type": "execute_result"
    }
   ],
   "source": [
    "82 in l"
   ]
  },
  {
   "cell_type": "code",
   "execution_count": 39,
   "id": "29bf7f85-b54a-4feb-9858-c2cb20403ba6",
   "metadata": {},
   "outputs": [
    {
     "data": {
      "text/plain": [
       "False"
      ]
     },
     "execution_count": 39,
     "metadata": {},
     "output_type": "execute_result"
    }
   ],
   "source": [
    "100 in l"
   ]
  },
  {
   "cell_type": "code",
   "execution_count": 40,
   "id": "d8287ada-2cdb-48bb-91a4-e8b6119e5de1",
   "metadata": {},
   "outputs": [],
   "source": [
    "# Arithmetic operator"
   ]
  },
  {
   "cell_type": "code",
   "execution_count": 41,
   "id": "8c42a545-2ef0-4d63-ad75-e2c4e6298b56",
   "metadata": {},
   "outputs": [
    {
     "data": {
      "text/plain": [
       "[12, 67, 82, 17, 12, 10, 57]"
      ]
     },
     "execution_count": 41,
     "metadata": {},
     "output_type": "execute_result"
    }
   ],
   "source": [
    "l"
   ]
  },
  {
   "cell_type": "code",
   "execution_count": 42,
   "id": "0d1207b5-8699-4105-82e1-db5ca9a3e6c5",
   "metadata": {},
   "outputs": [
    {
     "data": {
      "text/plain": [
       "[12, 67, 82, 17, 12, 10, 57, 12, 67, 82, 17, 12, 10, 57]"
      ]
     },
     "execution_count": 42,
     "metadata": {},
     "output_type": "execute_result"
    }
   ],
   "source": [
    "l * 2"
   ]
  },
  {
   "cell_type": "code",
   "execution_count": 43,
   "id": "a470dffb-67b5-41d9-a281-64fba23372d6",
   "metadata": {},
   "outputs": [
    {
     "data": {
      "text/plain": [
       "[12, 67, 82, 17, 12, 10, 57, 12, 56]"
      ]
     },
     "execution_count": 43,
     "metadata": {},
     "output_type": "execute_result"
    }
   ],
   "source": [
    "l + [12, 56]"
   ]
  },
  {
   "cell_type": "code",
   "execution_count": 44,
   "id": "23db67c8-4ed1-4de8-bed5-10c5604bea64",
   "metadata": {},
   "outputs": [
    {
     "data": {
      "text/plain": [
       "[12, 67, 82, 17, 12, 10, 57]"
      ]
     },
     "execution_count": 44,
     "metadata": {},
     "output_type": "execute_result"
    }
   ],
   "source": [
    "l"
   ]
  },
  {
   "cell_type": "code",
   "execution_count": 45,
   "id": "b615188a-4dd8-45d7-a593-c3fac412d086",
   "metadata": {},
   "outputs": [],
   "source": [
    "l1 = [56, True, 44.33]"
   ]
  },
  {
   "cell_type": "code",
   "execution_count": 46,
   "id": "3c9ff99c-d8cc-41cc-9c1e-1bea6f98d364",
   "metadata": {},
   "outputs": [
    {
     "data": {
      "text/plain": [
       "[12, 67, 82, 17, 12, 10, 57, 56, True, 44.33]"
      ]
     },
     "execution_count": 46,
     "metadata": {},
     "output_type": "execute_result"
    }
   ],
   "source": [
    "l + l1"
   ]
  },
  {
   "cell_type": "code",
   "execution_count": 47,
   "id": "23599cd0-e000-4b9b-8c9a-8112813380d8",
   "metadata": {},
   "outputs": [],
   "source": [
    "## ITERATING OVER THE LIST"
   ]
  },
  {
   "cell_type": "code",
   "execution_count": 48,
   "id": "e819168c-0a1e-43a3-88d2-e450a2a4830b",
   "metadata": {},
   "outputs": [
    {
     "data": {
      "text/plain": [
       "[12, 67, 82, 17, 12, 10, 57]"
      ]
     },
     "execution_count": 48,
     "metadata": {},
     "output_type": "execute_result"
    }
   ],
   "source": [
    "l"
   ]
  },
  {
   "cell_type": "code",
   "execution_count": 49,
   "id": "57fe6d45-b03a-4b06-9acf-ea802993ee9c",
   "metadata": {},
   "outputs": [
    {
     "name": "stdout",
     "output_type": "stream",
     "text": [
      "144 4489 6724 289 144 100 3249 "
     ]
    }
   ],
   "source": [
    "for n in l:\n",
    "    print(n * n, end = ' ')"
   ]
  },
  {
   "cell_type": "code",
   "execution_count": 50,
   "id": "f9ed96ac-f465-4d6c-9ece-b5d8d83fbb47",
   "metadata": {},
   "outputs": [],
   "source": [
    "# Write a program to print odd numbers from this list"
   ]
  },
  {
   "cell_type": "code",
   "execution_count": 51,
   "id": "cc6461e8-289a-4a11-bc81-b1c1f00f0adf",
   "metadata": {},
   "outputs": [
    {
     "name": "stdout",
     "output_type": "stream",
     "text": [
      "67 17 57 "
     ]
    }
   ],
   "source": [
    "for n in l:\n",
    "    if n % 2 != 0:\n",
    "        print(n, end = ' ')"
   ]
  },
  {
   "cell_type": "code",
   "execution_count": 52,
   "id": "e362700d-9ba0-4043-b21f-8843d2980c04",
   "metadata": {},
   "outputs": [],
   "source": [
    "## LIST COMPREHENSION"
   ]
  },
  {
   "cell_type": "code",
   "execution_count": 53,
   "id": "1044d5d0-edf9-4f02-a2c3-df5897519bb1",
   "metadata": {},
   "outputs": [
    {
     "data": {
      "text/plain": [
       "[12, 67, 82, 17, 12, 10, 57]"
      ]
     },
     "execution_count": 53,
     "metadata": {},
     "output_type": "execute_result"
    }
   ],
   "source": [
    "l"
   ]
  },
  {
   "cell_type": "code",
   "execution_count": 54,
   "id": "d41e7497-3cb4-4622-94b6-bb436b9249a0",
   "metadata": {},
   "outputs": [],
   "source": [
    "# map"
   ]
  },
  {
   "cell_type": "code",
   "execution_count": 55,
   "id": "7c679d3d-2df5-4dd1-ac59-d4a7ad291b70",
   "metadata": {},
   "outputs": [],
   "source": [
    "a = [n/2 for n in l]"
   ]
  },
  {
   "cell_type": "code",
   "execution_count": 56,
   "id": "b94087b7-f75a-41e9-a02a-bb30f5741c6d",
   "metadata": {},
   "outputs": [
    {
     "data": {
      "text/plain": [
       "[6.0, 33.5, 41.0, 8.5, 6.0, 5.0, 28.5]"
      ]
     },
     "execution_count": 56,
     "metadata": {},
     "output_type": "execute_result"
    }
   ],
   "source": [
    "a"
   ]
  },
  {
   "cell_type": "code",
   "execution_count": 57,
   "id": "22daaaf7-7e71-4690-8111-aedc92d319ee",
   "metadata": {},
   "outputs": [
    {
     "data": {
      "text/plain": [
       "list"
      ]
     },
     "execution_count": 57,
     "metadata": {},
     "output_type": "execute_result"
    }
   ],
   "source": [
    "type(a)"
   ]
  },
  {
   "cell_type": "code",
   "execution_count": 58,
   "id": "1efb0466-4c58-4c1d-a10f-5b4e5e32c225",
   "metadata": {},
   "outputs": [
    {
     "data": {
      "text/plain": [
       "[144, 4489, 6724, 289, 144, 100, 3249]"
      ]
     },
     "execution_count": 58,
     "metadata": {},
     "output_type": "execute_result"
    }
   ],
   "source": [
    "[n*n for n in l]"
   ]
  },
  {
   "cell_type": "code",
   "execution_count": 59,
   "id": "6752dcb1-f259-43cd-869f-380f0913d503",
   "metadata": {},
   "outputs": [],
   "source": [
    "# FILTER"
   ]
  },
  {
   "cell_type": "code",
   "execution_count": 60,
   "id": "4aff9544-6463-47f4-8f45-6bec22c23ba3",
   "metadata": {},
   "outputs": [
    {
     "data": {
      "text/plain": [
       "[12, 67, 82, 17, 12, 10, 57]"
      ]
     },
     "execution_count": 60,
     "metadata": {},
     "output_type": "execute_result"
    }
   ],
   "source": [
    "l"
   ]
  },
  {
   "cell_type": "code",
   "execution_count": 61,
   "id": "f5f02362-d381-4e07-9889-ebdbb0ef5b1a",
   "metadata": {},
   "outputs": [],
   "source": [
    "b = [n for n in l if n > 40]"
   ]
  },
  {
   "cell_type": "code",
   "execution_count": 62,
   "id": "b09f0a2b-d3c4-4835-9476-e8a069cb486e",
   "metadata": {},
   "outputs": [
    {
     "data": {
      "text/plain": [
       "[67, 82, 57]"
      ]
     },
     "execution_count": 62,
     "metadata": {},
     "output_type": "execute_result"
    }
   ],
   "source": [
    "b"
   ]
  },
  {
   "cell_type": "code",
   "execution_count": 63,
   "id": "d245722b-5d2e-4070-b318-5ecbbeee04ea",
   "metadata": {},
   "outputs": [
    {
     "data": {
      "text/plain": [
       "[67, 17, 57]"
      ]
     },
     "execution_count": 63,
     "metadata": {},
     "output_type": "execute_result"
    }
   ],
   "source": [
    "[n for n in l if n % 2 ==1]"
   ]
  },
  {
   "cell_type": "code",
   "execution_count": 64,
   "id": "af68a454-b71c-4493-862d-d06db86ac71e",
   "metadata": {},
   "outputs": [],
   "source": [
    "names = ['Ayush', 'Aditya' ,'Omkar', 'Arpit', 'Tanvi', 'Tejal', 'Tejas', 'Sayali']"
   ]
  },
  {
   "cell_type": "code",
   "execution_count": 65,
   "id": "6784d518-8823-4395-97fc-ca3932eb5ad6",
   "metadata": {},
   "outputs": [],
   "source": [
    "# List containing names which starts with 'T'"
   ]
  },
  {
   "cell_type": "code",
   "execution_count": 66,
   "id": "21c4dc98-a6b0-4732-b7db-cf9b4526e28f",
   "metadata": {},
   "outputs": [
    {
     "data": {
      "text/plain": [
       "['Tanvi', 'Tejal', 'Tejas']"
      ]
     },
     "execution_count": 66,
     "metadata": {},
     "output_type": "execute_result"
    }
   ],
   "source": [
    "[n for n in names if n.startswith('T') ]"
   ]
  },
  {
   "cell_type": "code",
   "execution_count": 67,
   "id": "8f1d1e20-f206-4810-8aa7-30471fff35b8",
   "metadata": {},
   "outputs": [],
   "source": [
    "# get a new list with all the names in uppercase"
   ]
  },
  {
   "cell_type": "code",
   "execution_count": 68,
   "id": "f5d3ea9c-b8f1-45c3-aadb-4d1bb9308134",
   "metadata": {},
   "outputs": [
    {
     "data": {
      "text/plain": [
       "['AYUSH', 'ADITYA', 'OMKAR', 'ARPIT', 'TANVI', 'TEJAL', 'TEJAS', 'SAYALI']"
      ]
     },
     "execution_count": 68,
     "metadata": {},
     "output_type": "execute_result"
    }
   ],
   "source": [
    "[n.upper() for n in names ]"
   ]
  },
  {
   "cell_type": "code",
   "execution_count": 69,
   "id": "3e94c36d-07db-4c2d-933a-28e3b71ff434",
   "metadata": {},
   "outputs": [],
   "source": [
    "## EMPTY LIST"
   ]
  },
  {
   "cell_type": "code",
   "execution_count": 70,
   "id": "3a3fceab-89f4-4275-b2ef-82a6b6fb2a85",
   "metadata": {},
   "outputs": [],
   "source": [
    "e = []"
   ]
  },
  {
   "cell_type": "code",
   "execution_count": 71,
   "id": "e9015cba-958b-4893-8089-9954dcdd80cc",
   "metadata": {},
   "outputs": [
    {
     "data": {
      "text/plain": [
       "list"
      ]
     },
     "execution_count": 71,
     "metadata": {},
     "output_type": "execute_result"
    }
   ],
   "source": [
    "type (e)"
   ]
  },
  {
   "cell_type": "code",
   "execution_count": 72,
   "id": "b7e041b5-4704-413f-9fde-2272ca5ee382",
   "metadata": {},
   "outputs": [
    {
     "ename": "IndexError",
     "evalue": "list index out of range",
     "output_type": "error",
     "traceback": [
      "\u001b[1;31m---------------------------------------------------------------------------\u001b[0m",
      "\u001b[1;31mIndexError\u001b[0m                                Traceback (most recent call last)",
      "Cell \u001b[1;32mIn[72], line 1\u001b[0m\n\u001b[1;32m----> 1\u001b[0m e[\u001b[38;5;241m0\u001b[39m]\n",
      "\u001b[1;31mIndexError\u001b[0m: list index out of range"
     ]
    }
   ],
   "source": [
    "e[0]"
   ]
  },
  {
   "cell_type": "code",
   "execution_count": 73,
   "id": "be169e5b-6364-49ed-922c-dc898e66ee09",
   "metadata": {},
   "outputs": [],
   "source": [
    "e = e + [4]"
   ]
  },
  {
   "cell_type": "code",
   "execution_count": 74,
   "id": "d4e10734-c333-48e4-b010-15433ef37908",
   "metadata": {},
   "outputs": [
    {
     "data": {
      "text/plain": [
       "[4]"
      ]
     },
     "execution_count": 74,
     "metadata": {},
     "output_type": "execute_result"
    }
   ],
   "source": [
    "e"
   ]
  },
  {
   "cell_type": "code",
   "execution_count": 75,
   "id": "d3a8b8c8-816e-40f5-8c6e-0c5be57486fb",
   "metadata": {},
   "outputs": [],
   "source": [
    "## LIST DECOMPOSITION"
   ]
  },
  {
   "cell_type": "code",
   "execution_count": 76,
   "id": "349b1ecd-9210-4fe2-ba0e-67268840863d",
   "metadata": {},
   "outputs": [],
   "source": [
    "l1 = [34, 56, 78]"
   ]
  },
  {
   "cell_type": "code",
   "execution_count": 77,
   "id": "8330c98a-1d02-4e8a-9a7e-eaab2455d176",
   "metadata": {},
   "outputs": [],
   "source": [
    "x, y, z = l1"
   ]
  },
  {
   "cell_type": "code",
   "execution_count": 78,
   "id": "c53db360-f0a7-4de9-9b86-aaad34b94811",
   "metadata": {},
   "outputs": [
    {
     "data": {
      "text/plain": [
       "34"
      ]
     },
     "execution_count": 78,
     "metadata": {},
     "output_type": "execute_result"
    }
   ],
   "source": [
    "x"
   ]
  },
  {
   "cell_type": "code",
   "execution_count": 79,
   "id": "df1a8e91-cbe5-4ae1-af50-79d430ad4cc4",
   "metadata": {},
   "outputs": [
    {
     "data": {
      "text/plain": [
       "56"
      ]
     },
     "execution_count": 79,
     "metadata": {},
     "output_type": "execute_result"
    }
   ],
   "source": [
    "y"
   ]
  },
  {
   "cell_type": "code",
   "execution_count": 80,
   "id": "6d2b4aa9-30ee-46aa-948b-97b70da0975d",
   "metadata": {},
   "outputs": [
    {
     "data": {
      "text/plain": [
       "78"
      ]
     },
     "execution_count": 80,
     "metadata": {},
     "output_type": "execute_result"
    }
   ],
   "source": [
    "z"
   ]
  },
  {
   "cell_type": "code",
   "execution_count": 81,
   "id": "1bc39258-0556-4a15-adb7-d9fcead71cdf",
   "metadata": {},
   "outputs": [
    {
     "data": {
      "text/plain": [
       "[12, 67, 82, 17, 12, 10, 57]"
      ]
     },
     "execution_count": 81,
     "metadata": {},
     "output_type": "execute_result"
    }
   ],
   "source": [
    "l"
   ]
  },
  {
   "cell_type": "code",
   "execution_count": 82,
   "id": "bce018e3-38cd-40a0-a700-47f391cb3b5b",
   "metadata": {},
   "outputs": [
    {
     "data": {
      "text/plain": [
       "7"
      ]
     },
     "execution_count": 82,
     "metadata": {},
     "output_type": "execute_result"
    }
   ],
   "source": [
    "len(l)"
   ]
  },
  {
   "cell_type": "code",
   "execution_count": 83,
   "id": "d122456b-ef10-4e97-bf3f-b83e665c792b",
   "metadata": {},
   "outputs": [
    {
     "data": {
      "text/plain": [
       "82"
      ]
     },
     "execution_count": 83,
     "metadata": {},
     "output_type": "execute_result"
    }
   ],
   "source": [
    "max(l)"
   ]
  },
  {
   "cell_type": "code",
   "execution_count": 84,
   "id": "c91e8092-a244-4f3a-8743-6e8c54ba27ee",
   "metadata": {},
   "outputs": [
    {
     "data": {
      "text/plain": [
       "10"
      ]
     },
     "execution_count": 84,
     "metadata": {},
     "output_type": "execute_result"
    }
   ],
   "source": [
    "min(l)"
   ]
  },
  {
   "cell_type": "code",
   "execution_count": 85,
   "id": "1224baa5-e2d4-4ccb-9f33-fe1adb6f3606",
   "metadata": {},
   "outputs": [
    {
     "data": {
      "text/plain": [
       "257"
      ]
     },
     "execution_count": 85,
     "metadata": {},
     "output_type": "execute_result"
    }
   ],
   "source": [
    "sum(l)"
   ]
  },
  {
   "cell_type": "code",
   "execution_count": 86,
   "id": "d99c5c72-555d-4b30-b335-f7056e7dcf88",
   "metadata": {},
   "outputs": [
    {
     "data": {
      "text/plain": [
       "[10, 12, 12, 17, 57, 67, 82]"
      ]
     },
     "execution_count": 86,
     "metadata": {},
     "output_type": "execute_result"
    }
   ],
   "source": [
    "sorted(l)"
   ]
  },
  {
   "cell_type": "code",
   "execution_count": 87,
   "id": "e517ccc7-3886-442b-af34-a710645a519d",
   "metadata": {},
   "outputs": [
    {
     "data": {
      "text/plain": [
       "[82, 67, 57, 17, 12, 12, 10]"
      ]
     },
     "execution_count": 87,
     "metadata": {},
     "output_type": "execute_result"
    }
   ],
   "source": [
    "sorted(l, reverse= True)"
   ]
  },
  {
   "cell_type": "code",
   "execution_count": 88,
   "id": "84bcdd3a-9190-4f59-83dd-be403e1545d3",
   "metadata": {},
   "outputs": [],
   "source": [
    "name = 'Aditya'"
   ]
  },
  {
   "cell_type": "code",
   "execution_count": 89,
   "id": "f671320a-0302-4396-9925-8c3a9995250f",
   "metadata": {},
   "outputs": [
    {
     "data": {
      "text/plain": [
       "['A', 'd', 'i', 't', 'y', 'a']"
      ]
     },
     "execution_count": 89,
     "metadata": {},
     "output_type": "execute_result"
    }
   ],
   "source": [
    "list(name)"
   ]
  },
  {
   "cell_type": "code",
   "execution_count": 90,
   "id": "adfa06a8-2f50-4c39-9c27-07d1ec5e5b88",
   "metadata": {},
   "outputs": [],
   "source": [
    "## METHODS ON LIST"
   ]
  },
  {
   "cell_type": "code",
   "execution_count": 91,
   "id": "c91f174d-4b1b-4edc-820d-9548a1c40941",
   "metadata": {},
   "outputs": [
    {
     "data": {
      "text/plain": [
       "[12, 67, 82, 17, 12, 10, 57]"
      ]
     },
     "execution_count": 91,
     "metadata": {},
     "output_type": "execute_result"
    }
   ],
   "source": [
    "l"
   ]
  },
  {
   "cell_type": "code",
   "execution_count": 92,
   "id": "b11cca60-8b0e-46ad-a3c7-66fcd6475f21",
   "metadata": {},
   "outputs": [],
   "source": [
    "l.append(100)  # adding at the end"
   ]
  },
  {
   "cell_type": "code",
   "execution_count": 93,
   "id": "d76f0938-b29c-490e-b408-0a8e3c13e420",
   "metadata": {},
   "outputs": [
    {
     "data": {
      "text/plain": [
       "[12, 67, 82, 17, 12, 10, 57, 100]"
      ]
     },
     "execution_count": 93,
     "metadata": {},
     "output_type": "execute_result"
    }
   ],
   "source": [
    "l"
   ]
  },
  {
   "cell_type": "code",
   "execution_count": 94,
   "id": "4249a5d9-cd3e-49b1-9323-4309f7cce1b7",
   "metadata": {},
   "outputs": [],
   "source": [
    "# append and extend"
   ]
  },
  {
   "cell_type": "code",
   "execution_count": 104,
   "id": "c35e1b93-161c-4053-b182-0909d1c4dd47",
   "metadata": {},
   "outputs": [],
   "source": [
    "x = [12, 23, 34]\n",
    "y = [12, 23, 34]"
   ]
  },
  {
   "cell_type": "code",
   "execution_count": 105,
   "id": "2571b8d3-8a1b-4718-a411-a6e5cadab7d1",
   "metadata": {},
   "outputs": [],
   "source": [
    "x.append([11,10])\n",
    "y.extend([11,10])"
   ]
  },
  {
   "cell_type": "code",
   "execution_count": 106,
   "id": "d41c6d83-6c15-4bb2-a1e9-ee8da1c5459c",
   "metadata": {},
   "outputs": [
    {
     "name": "stdout",
     "output_type": "stream",
     "text": [
      "[12, 23, 34, [11, 10]]\n",
      "[12, 23, 34, 11, 10]\n"
     ]
    }
   ],
   "source": [
    "print(x)\n",
    "print(y)"
   ]
  },
  {
   "cell_type": "code",
   "execution_count": 95,
   "id": "7e1a9084-7f47-4650-8613-2c6a90326fad",
   "metadata": {},
   "outputs": [],
   "source": [
    "# insert"
   ]
  },
  {
   "cell_type": "code",
   "execution_count": 96,
   "id": "fa5205e8-8848-4220-a05d-f5a232c50e17",
   "metadata": {},
   "outputs": [
    {
     "data": {
      "text/plain": [
       "[12, 67, 82, 17, 12, 10, 57, 100]"
      ]
     },
     "execution_count": 96,
     "metadata": {},
     "output_type": "execute_result"
    }
   ],
   "source": [
    "l"
   ]
  },
  {
   "cell_type": "code",
   "execution_count": 97,
   "id": "e9a67aa7-ad26-4668-adeb-2af76f3eaab7",
   "metadata": {},
   "outputs": [],
   "source": [
    "l.insert(2, 78)"
   ]
  },
  {
   "cell_type": "code",
   "execution_count": 98,
   "id": "029e9ec6-f7ce-43a5-a063-3376c955d48f",
   "metadata": {},
   "outputs": [
    {
     "data": {
      "text/plain": [
       "[12, 67, 78, 82, 17, 12, 10, 57, 100]"
      ]
     },
     "execution_count": 98,
     "metadata": {},
     "output_type": "execute_result"
    }
   ],
   "source": [
    "l"
   ]
  },
  {
   "cell_type": "code",
   "execution_count": 99,
   "id": "f11df826-8bb7-4d3e-9593-f98b5b654132",
   "metadata": {},
   "outputs": [],
   "source": [
    "# remove"
   ]
  },
  {
   "cell_type": "code",
   "execution_count": 100,
   "id": "0acf8e9f-9994-4996-890e-f8bcaaa78acb",
   "metadata": {},
   "outputs": [],
   "source": [
    "l.remove(78)"
   ]
  },
  {
   "cell_type": "code",
   "execution_count": 101,
   "id": "2ccc6cb5-d895-4127-bd1c-2dba4ff3fbc3",
   "metadata": {},
   "outputs": [
    {
     "data": {
      "text/plain": [
       "[12, 67, 82, 17, 12, 10, 57, 100]"
      ]
     },
     "execution_count": 101,
     "metadata": {},
     "output_type": "execute_result"
    }
   ],
   "source": [
    "l"
   ]
  },
  {
   "cell_type": "code",
   "execution_count": 102,
   "id": "55ac702f-d358-41d1-aa7b-2eea44db565b",
   "metadata": {},
   "outputs": [
    {
     "data": {
      "text/plain": [
       "6"
      ]
     },
     "execution_count": 102,
     "metadata": {},
     "output_type": "execute_result"
    }
   ],
   "source": [
    "l.index(57)"
   ]
  },
  {
   "cell_type": "code",
   "execution_count": 103,
   "id": "2fbf7aae-44f2-4566-b255-9dc3e595641a",
   "metadata": {},
   "outputs": [
    {
     "data": {
      "text/plain": [
       "2"
      ]
     },
     "execution_count": 103,
     "metadata": {},
     "output_type": "execute_result"
    }
   ],
   "source": [
    "l.count(12)"
   ]
  },
  {
   "cell_type": "code",
   "execution_count": 107,
   "id": "2a3e74a9-ac05-4165-8bdf-be30163cc136",
   "metadata": {},
   "outputs": [],
   "source": [
    "# delete/ pop"
   ]
  },
  {
   "cell_type": "code",
   "execution_count": 108,
   "id": "b23ca92f-a2f2-404e-8f89-90b07b6dda89",
   "metadata": {},
   "outputs": [
    {
     "data": {
      "text/plain": [
       "100"
      ]
     },
     "execution_count": 108,
     "metadata": {},
     "output_type": "execute_result"
    }
   ],
   "source": [
    "l.pop()"
   ]
  },
  {
   "cell_type": "code",
   "execution_count": 109,
   "id": "4c8ca86c-26ea-4fbf-90c0-737587c71eb7",
   "metadata": {},
   "outputs": [
    {
     "data": {
      "text/plain": [
       "[12, 67, 82, 17, 12, 10, 57]"
      ]
     },
     "execution_count": 109,
     "metadata": {},
     "output_type": "execute_result"
    }
   ],
   "source": [
    "l"
   ]
  },
  {
   "cell_type": "code",
   "execution_count": 110,
   "id": "13c15cc4-f22a-4f74-b162-6cb0cb0773cb",
   "metadata": {},
   "outputs": [
    {
     "data": {
      "text/plain": [
       "10"
      ]
     },
     "execution_count": 110,
     "metadata": {},
     "output_type": "execute_result"
    }
   ],
   "source": [
    "l.pop(-2)"
   ]
  },
  {
   "cell_type": "code",
   "execution_count": 111,
   "id": "a5fcb447-7aae-4037-984e-cc2272a2dc6b",
   "metadata": {},
   "outputs": [
    {
     "data": {
      "text/plain": [
       "[12, 67, 82, 17, 12, 57]"
      ]
     },
     "execution_count": 111,
     "metadata": {},
     "output_type": "execute_result"
    }
   ],
   "source": [
    "l"
   ]
  },
  {
   "cell_type": "code",
   "execution_count": 113,
   "id": "4f7f0310-fe26-49ee-9820-6cfbfbbf748d",
   "metadata": {},
   "outputs": [],
   "source": [
    "l.reverse()"
   ]
  },
  {
   "cell_type": "code",
   "execution_count": 114,
   "id": "f875750e-d868-4031-9d96-349cba20ec6c",
   "metadata": {},
   "outputs": [
    {
     "data": {
      "text/plain": [
       "[57, 12, 17, 82, 67, 12]"
      ]
     },
     "execution_count": 114,
     "metadata": {},
     "output_type": "execute_result"
    }
   ],
   "source": [
    "l"
   ]
  },
  {
   "cell_type": "code",
   "execution_count": 115,
   "id": "cc62362a-71cf-4e7c-9bf9-c6e786a186b7",
   "metadata": {},
   "outputs": [],
   "source": [
    "l.sort()"
   ]
  },
  {
   "cell_type": "code",
   "execution_count": 116,
   "id": "2ddc264d-552d-42c5-bb91-b76d35da2247",
   "metadata": {},
   "outputs": [
    {
     "data": {
      "text/plain": [
       "[12, 12, 17, 57, 67, 82]"
      ]
     },
     "execution_count": 116,
     "metadata": {},
     "output_type": "execute_result"
    }
   ],
   "source": [
    "l"
   ]
  },
  {
   "cell_type": "code",
   "execution_count": 117,
   "id": "df97ffcf-71f7-4fd9-a5f7-87ede7921dac",
   "metadata": {},
   "outputs": [],
   "source": [
    "l.sort(reverse= True)"
   ]
  },
  {
   "cell_type": "code",
   "execution_count": 120,
   "id": "dd87e284-e492-495f-9a8d-ad064836abfa",
   "metadata": {},
   "outputs": [
    {
     "data": {
      "text/plain": [
       "[82, 67, 57, 17, 12, 12]"
      ]
     },
     "execution_count": 120,
     "metadata": {},
     "output_type": "execute_result"
    }
   ],
   "source": [
    "# iterate over a list print index and the value assigned to it\n",
    "\n",
    "l\n",
    "\n",
    "# o/p => 0 8"
   ]
  }
 ],
 "metadata": {
  "kernelspec": {
   "display_name": "Python 3 (ipykernel)",
   "language": "python",
   "name": "python3"
  },
  "language_info": {
   "codemirror_mode": {
    "name": "ipython",
    "version": 3
   },
   "file_extension": ".py",
   "mimetype": "text/x-python",
   "name": "python",
   "nbconvert_exporter": "python",
   "pygments_lexer": "ipython3",
   "version": "3.11.7"
  }
 },
 "nbformat": 4,
 "nbformat_minor": 5
}
