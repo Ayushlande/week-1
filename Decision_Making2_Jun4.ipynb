{
 "cells": [
  {
   "cell_type": "code",
   "execution_count": 1,
   "id": "01a183e9-2439-4b9c-890e-6acf1704901b",
   "metadata": {},
   "outputs": [
    {
     "name": "stdin",
     "output_type": "stream",
     "text": [
      "Enter the number  4\n"
     ]
    }
   ],
   "source": [
    "# check if the number is greater than 50\n",
    "\n",
    "num = int(input('Enter the number '))\n",
    "\n",
    "if num > 50:\n",
    "    print('OK')"
   ]
  },
  {
   "cell_type": "code",
   "execution_count": 2,
   "id": "dc7fcf50-1881-445f-a59f-62efedb0c01a",
   "metadata": {},
   "outputs": [
    {
     "name": "stdin",
     "output_type": "stream",
     "text": [
      "Enter the number  0\n"
     ]
    },
    {
     "name": "stdout",
     "output_type": "stream",
     "text": [
      "negative\n",
      "Goodbye!!!\n"
     ]
    }
   ],
   "source": [
    "# positive or negative\n",
    "\n",
    "num = int(input('Enter the number '))\n",
    "\n",
    "if num > 0:\n",
    "    print('Positive')\n",
    "    print('ok')\n",
    "else:\n",
    "    print('negative')\n",
    "    print('Goodbye!!!')"
   ]
  },
  {
   "cell_type": "code",
   "execution_count": 3,
   "id": "90ee33d8-7bc8-4a8f-87e7-f390102aa5b3",
   "metadata": {},
   "outputs": [
    {
     "name": "stdin",
     "output_type": "stream",
     "text": [
      "Enter the number  0\n"
     ]
    },
    {
     "name": "stdout",
     "output_type": "stream",
     "text": [
      "Zero\n"
     ]
    }
   ],
   "source": [
    "num = int(input('Enter the number '))\n",
    "\n",
    "if num > 0:\n",
    "    print('positive')\n",
    "elif num == 0:\n",
    "    print('Zero')\n",
    "else:\n",
    "    print('Negative')"
   ]
  },
  {
   "cell_type": "code",
   "execution_count": 4,
   "id": "338553fa-c8f7-411e-9a06-689c698fcb2a",
   "metadata": {},
   "outputs": [
    {
     "name": "stdin",
     "output_type": "stream",
     "text": [
      "Enter the number  5\n"
     ]
    },
    {
     "name": "stdout",
     "output_type": "stream",
     "text": [
      "ODD\n"
     ]
    }
   ],
   "source": [
    "# check if the number is odd or even\n",
    "\n",
    "num = int(input('Enter the number '))\n",
    "\n",
    "if num % 2 == 0:\n",
    "    print('EVEN')\n",
    "else:\n",
    "    print('ODD')"
   ]
  },
  {
   "cell_type": "code",
   "execution_count": 5,
   "id": "7d57176a-5410-44d9-aca8-d46ecf610b12",
   "metadata": {},
   "outputs": [
    {
     "data": {
      "text/plain": [
       "1"
      ]
     },
     "execution_count": 5,
     "metadata": {},
     "output_type": "execute_result"
    }
   ],
   "source": [
    "int(True)"
   ]
  },
  {
   "cell_type": "code",
   "execution_count": 6,
   "id": "dc216a3b-9c7b-4def-8f7a-a17f366844c2",
   "metadata": {},
   "outputs": [
    {
     "data": {
      "text/plain": [
       "0"
      ]
     },
     "execution_count": 6,
     "metadata": {},
     "output_type": "execute_result"
    }
   ],
   "source": [
    "int(False)"
   ]
  },
  {
   "cell_type": "code",
   "execution_count": 7,
   "id": "d3eb009d-4f52-451b-87a1-040b8f1d365b",
   "metadata": {},
   "outputs": [
    {
     "data": {
      "text/plain": [
       "2"
      ]
     },
     "execution_count": 7,
     "metadata": {},
     "output_type": "execute_result"
    }
   ],
   "source": [
    "True + True - False"
   ]
  },
  {
   "cell_type": "code",
   "execution_count": 8,
   "id": "e6892b82-7892-4eb8-a7cf-2822321dd93c",
   "metadata": {},
   "outputs": [
    {
     "name": "stdout",
     "output_type": "stream",
     "text": [
      "!!!!!\n"
     ]
    }
   ],
   "source": [
    "a = 12\n",
    "\n",
    "if a:\n",
    "    print('!!!!!')"
   ]
  },
  {
   "cell_type": "code",
   "execution_count": 9,
   "id": "da4cb6aa-e041-4bbd-9014-ea5941c59d2f",
   "metadata": {},
   "outputs": [
    {
     "name": "stdin",
     "output_type": "stream",
     "text": [
      "Enter the number  3\n"
     ]
    },
    {
     "name": "stdout",
     "output_type": "stream",
     "text": [
      "Incorrect\n"
     ]
    }
   ],
   "source": [
    "# check if the number is between 50 and 150\n",
    "num = int(input('Enter the number '))\n",
    "\n",
    "if num > 50:\n",
    "    if num < 150:\n",
    "        print('Correct')\n",
    "    else:\n",
    "        print('greater than 150')\n",
    "else:\n",
    "    print('Incorrect')"
   ]
  },
  {
   "cell_type": "code",
   "execution_count": 10,
   "id": "d7d5f51a-d0e4-4803-9e02-15f11d20e5e4",
   "metadata": {},
   "outputs": [
    {
     "name": "stdin",
     "output_type": "stream",
     "text": [
      "Enter the number  4\n"
     ]
    },
    {
     "name": "stdout",
     "output_type": "stream",
     "text": [
      "Incorrect\n"
     ]
    }
   ],
   "source": [
    "num = int(input('Enter the number '))\n",
    "\n",
    "if num > 50 and num < 150:\n",
    "    print('Correct')\n",
    "else:\n",
    "    print('Incorrect')"
   ]
  },
  {
   "cell_type": "code",
   "execution_count": 11,
   "id": "b123055d-872d-4303-81a5-c47374896af9",
   "metadata": {},
   "outputs": [
    {
     "name": "stdin",
     "output_type": "stream",
     "text": [
      "Enter the purchase cost  1000\n",
      "Enter the selling cost  500\n"
     ]
    },
    {
     "name": "stdout",
     "output_type": "stream",
     "text": [
      "Loss: 500\n"
     ]
    }
   ],
   "source": [
    "# read selling cost and purchase cost\n",
    "# find profit or loss and how much ?\n",
    "\n",
    "purchase_cost = int(input('Enter the purchase cost '))\n",
    "selling_cost = int(input('Enter the selling cost '))\n",
    "\n",
    "if selling_cost > purchase_cost:\n",
    "    print('Profit:', selling_cost - purchase_cost)\n",
    "else:\n",
    "    print('Loss:', purchase_cost - selling_cost)"
   ]
  },
  {
   "cell_type": "code",
   "execution_count": 12,
   "id": "1c8f7ca6-5634-450d-8ae2-0d5f43bc83af",
   "metadata": {},
   "outputs": [
    {
     "name": "stdin",
     "output_type": "stream",
     "text": [
      "Enter the 1st number  3\n",
      "Enter the 2nd number  2\n",
      "Enter the 3rd number  1\n"
     ]
    },
    {
     "name": "stdout",
     "output_type": "stream",
     "text": [
      "Largest is num1 3\n"
     ]
    }
   ],
   "source": [
    "# find the largest of 3 numbers\n",
    "# 'and', 'or' not allowed\n",
    "\n",
    "num1 = int(input('Enter the 1st number '))\n",
    "num2 = int(input('Enter the 2nd number '))\n",
    "num3 = int(input('Enter the 3rd number '))\n",
    "\n",
    "if num1 > num2:\n",
    "    if num1 > num3:\n",
    "        print('Largest is num1', num1)\n",
    "    else:\n",
    "        print('Largest is num3', num3)\n",
    "else:\n",
    "    if num2 > num3:\n",
    "        print('Largest is num2', num2)\n",
    "    else:\n",
    "        print('Largest is num3', num3)"
   ]
  },
  {
   "cell_type": "code",
   "execution_count": 13,
   "id": "cf795059-bfd1-4730-b2a1-2b02ec37d73f",
   "metadata": {},
   "outputs": [
    {
     "name": "stdin",
     "output_type": "stream",
     "text": [
      "Enter the year  1800\n"
     ]
    },
    {
     "name": "stdout",
     "output_type": "stream",
     "text": [
      "Century but not leap\n"
     ]
    }
   ],
   "source": [
    "# 2020 => Leap Year\n",
    "# 2018 => Not leap\n",
    "# 2000 => leap\n",
    "# 1800 => not leap => century year\n",
    "\n",
    "year = int(input('Enter the year '))\n",
    "\n",
    "if year % 4 == 0:\n",
    "    if year % 100 == 0:\n",
    "        if year % 400 == 0:\n",
    "            print('Leap Century Year')\n",
    "        else:\n",
    "            print('Century but not leap')\n",
    "    else:\n",
    "        print('Leap Year')\n",
    "else:\n",
    "    print('Not Leap')"
   ]
  },
  {
   "cell_type": "code",
   "execution_count": 14,
   "id": "ac1cfa0c-8612-4e80-a246-c35470ff09f1",
   "metadata": {},
   "outputs": [
    {
     "name": "stdin",
     "output_type": "stream",
     "text": [
      "Enter the marks of physics  67\n",
      "Enter the marks of chemistry  65\n",
      "Enter the marks of biology  47\n",
      "Enter the marks of maths  89\n",
      "Enter the marks of computer  65\n"
     ]
    },
    {
     "name": "stdout",
     "output_type": "stream",
     "text": [
      "Grade D\n"
     ]
    }
   ],
   "source": [
    "'''Write a Python program to input marks of five subjects\n",
    "Physics, Chemistry,\n",
    "Biology, Mathematics and Computer. Calculate percentage \n",
    "and grade\n",
    "according to following:\n",
    "Percentage >= 90% : Grade A\n",
    "Percentage >= 80% : Grade B\n",
    "Percentage >= 70% : Grade C\n",
    "Percentage >= 60% : Grade D\n",
    "Percentage >= 40% : Grade E\n",
    "Percentage < 40% : Grade F\n",
    "'''\n",
    "\n",
    "phys = float(input('Enter the marks of physics '))\n",
    "chem = float(input('Enter the marks of chemistry '))\n",
    "bio = float(input('Enter the marks of biology '))\n",
    "maths = float(input('Enter the marks of maths '))\n",
    "comp = float(input('Enter the marks of computer '))\n",
    "\n",
    "perc = ((phys + chem + bio + maths + comp)/500) * 100\n",
    "\n",
    "if perc >= 90:\n",
    "    print('Grade A')\n",
    "elif perc >= 80:\n",
    "    print('Grade B')\n",
    "elif perc >= 70:\n",
    "    print('Grade C')\n",
    "elif perc >= 60:\n",
    "    print('Grade D')\n",
    "elif perc >= 40:\n",
    "    print('Grade E')\n",
    "else:\n",
    "    print('Fail')"
   ]
  },
  {
   "cell_type": "code",
   "execution_count": 16,
   "id": "8a9ddd4f-af9f-493c-badc-3f46ed90ee6e",
   "metadata": {},
   "outputs": [
    {
     "name": "stdin",
     "output_type": "stream",
     "text": [
      "Enter the number  5\n"
     ]
    },
    {
     "name": "stdout",
     "output_type": "stream",
     "text": [
      "MENU\n",
      "1.Square\n",
      "2.Cube\n",
      "3.Check +ve or -ve\n"
     ]
    },
    {
     "name": "stdin",
     "output_type": "stream",
     "text": [
      "Enter your choice  2843\n"
     ]
    },
    {
     "name": "stdout",
     "output_type": "stream",
     "text": [
      "OOPS! you must've forgotten ur sepcs or brain :)\n"
     ]
    }
   ],
   "source": [
    "# Menu driven\n",
    "\n",
    "'''\n",
    "take a number and based on the choice perform\n",
    "1.square, 2.cube and 3. check positive or negative\n",
    "'''\n",
    "\n",
    "num = int(input('Enter the number '))\n",
    "\n",
    "print(\"MENU\\n1.Square\\n2.Cube\\n3.Check +ve or -ve\")\n",
    "\n",
    "choice = int(input('Enter your choice '))\n",
    "\n",
    "if choice == 1:\n",
    "    print('Square is', num * num)\n",
    "elif choice == 2:\n",
    "    print('Cube is', num ** 3)\n",
    "elif choice == 3:\n",
    "    if num > 0:\n",
    "        print('Positive')\n",
    "    else:\n",
    "        print('Negative')\n",
    "else:\n",
    "    print(\"OOPS! you must've forgotten ur sepcs or brain :)\")"
   ]
  },
  {
   "cell_type": "code",
   "execution_count": 17,
   "id": "bfeec7fe-3395-4f09-b471-a2460f7b72c6",
   "metadata": {},
   "outputs": [],
   "source": [
    "num = 34\n",
    "\n",
    "if num > 20:\n",
    "    pass"
   ]
  },
  {
   "cell_type": "code",
   "execution_count": null,
   "id": "5656496d-f23d-4f55-be51-6bc5c3d3ecb4",
   "metadata": {},
   "outputs": [],
   "source": [
    "'''\n",
    "take 2 numbers and based on the choice perform\n",
    "1.Addition, 2.floor div and 3. check which one is largest\n",
    "'''"
   ]
  }
 ],
 "metadata": {
  "kernelspec": {
   "display_name": "Python 3 (ipykernel)",
   "language": "python",
   "name": "python3"
  },
  "language_info": {
   "codemirror_mode": {
    "name": "ipython",
    "version": 3
   },
   "file_extension": ".py",
   "mimetype": "text/x-python",
   "name": "python",
   "nbconvert_exporter": "python",
   "pygments_lexer": "ipython3",
   "version": "3.11.7"
  }
 },
 "nbformat": 4,
 "nbformat_minor": 5
}
