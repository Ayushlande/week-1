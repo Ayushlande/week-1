{
 "cells": [
  {
   "cell_type": "code",
   "execution_count": 2,
   "id": "5c6a633a-e7d5-4643-801d-fa1eddf3ae58",
   "metadata": {},
   "outputs": [
    {
     "name": "stdout",
     "output_type": "stream",
     "text": [
      "Ayush Ayush Ayush Ayush Ayush Ayush Ayush Ayush Ayush Ayush Ayush Ayush Ayush Ayush Ayush "
     ]
    }
   ],
   "source": [
    "# printing a name 15 times\n",
    "\n",
    "count = 1\n",
    "\n",
    "while count <= 15:\n",
    "    print('Ayush', end = ' ')\n",
    "    count = count + 1"
   ]
  },
  {
   "cell_type": "code",
   "execution_count": 3,
   "id": "4eb53d5d-bedc-4435-ab99-6947a77bdaa1",
   "metadata": {},
   "outputs": [
    {
     "name": "stdout",
     "output_type": "stream",
     "text": [
      "16\n"
     ]
    }
   ],
   "source": [
    "print(count)"
   ]
  },
  {
   "cell_type": "code",
   "execution_count": 4,
   "id": "3f129dc5-ace4-44a0-9f7c-0b3a70c5bc21",
   "metadata": {},
   "outputs": [
    {
     "name": "stdout",
     "output_type": "stream",
     "text": [
      "1\n",
      "2\n",
      "3\n",
      "4\n",
      "5\n"
     ]
    }
   ],
   "source": [
    "# print numbers from 1 to 5\n",
    "\n",
    "count = 1\n",
    "\n",
    "while count <= 5:\n",
    "    print(count)\n",
    "    count += 1"
   ]
  },
  {
   "cell_type": "code",
   "execution_count": 5,
   "id": "1f1603df-7e1d-42b7-8b2f-2c00cca417d0",
   "metadata": {},
   "outputs": [
    {
     "name": "stdout",
     "output_type": "stream",
     "text": [
      "1\n",
      "3\n",
      "5\n",
      "7\n",
      "9\n",
      "11\n",
      "13\n",
      "15\n",
      "17\n",
      "19\n"
     ]
    }
   ],
   "source": [
    "# print odd numbers from 1 to 20\n",
    "\n",
    "count = 1\n",
    "\n",
    "while count <= 20:\n",
    "    print(count)\n",
    "    count += 2"
   ]
  },
  {
   "cell_type": "code",
   "execution_count": 6,
   "id": "8997dbcd-2afa-4537-b869-fae234416889",
   "metadata": {},
   "outputs": [
    {
     "name": "stdout",
     "output_type": "stream",
     "text": [
      "Addition is: 55\n"
     ]
    }
   ],
   "source": [
    "# find the addition of all numbers from 1 to 10\n",
    "\n",
    "count = 1\n",
    "add = 0\n",
    "\n",
    "while count <= 10:\n",
    "    add = add + count\n",
    "    count += 1\n",
    "    \n",
    "print('Addition is:', add)"
   ]
  },
  {
   "cell_type": "code",
   "execution_count": 7,
   "id": "1043ea25-3d76-47a3-8dcc-9f7485fffdc6",
   "metadata": {},
   "outputs": [
    {
     "name": "stdout",
     "output_type": "stream",
     "text": [
      "Addition is: 100\n"
     ]
    }
   ],
   "source": [
    "# find addition of all the odd numbers from 1 to 20\n",
    "\n",
    "count = 1\n",
    "add = 0\n",
    "\n",
    "while count <= 20:\n",
    "    add = add + count\n",
    "    count += 2\n",
    "    \n",
    "print('Addition is:', add)"
   ]
  },
  {
   "cell_type": "code",
   "execution_count": 8,
   "id": "c547b82c-9b02-4c77-8ddf-5ae92ce544a3",
   "metadata": {},
   "outputs": [
    {
     "name": "stdout",
     "output_type": "stream",
     "text": [
      "factorial is: 120\n"
     ]
    }
   ],
   "source": [
    "# factorial => 5! => 5 * 4 * 3 * 2 * 1 = 120\n",
    "\n",
    "num = 1\n",
    "fact = 1\n",
    "\n",
    "while num <= 5:\n",
    "    fact = fact * num\n",
    "    num += 1\n",
    "    \n",
    "print('factorial is:', fact)"
   ]
  },
  {
   "cell_type": "code",
   "execution_count": 9,
   "id": "74de01c5-1a2f-4d52-808f-4469ea7f7e26",
   "metadata": {},
   "outputs": [
    {
     "name": "stdin",
     "output_type": "stream",
     "text": [
      "Enter the number  5\n"
     ]
    },
    {
     "name": "stdout",
     "output_type": "stream",
     "text": [
      "factorial is: 120\n"
     ]
    }
   ],
   "source": [
    "num = int(input('Enter the number '))\n",
    "\n",
    "fact = 1\n",
    "\n",
    "while num >= 1:\n",
    "    fact = fact * num\n",
    "    num -= 1\n",
    "    \n",
    "print('factorial is:', fact)"
   ]
  },
  {
   "cell_type": "code",
   "execution_count": 10,
   "id": "414c57d5-8235-4571-b9d6-6b0f1e27fd6c",
   "metadata": {},
   "outputs": [],
   "source": [
    "'''# infinite loop\n",
    "\n",
    "count = 1\n",
    "\n",
    "while count <= 15:\n",
    "    print('A', end = ' ')\n",
    "    \n",
    "    ''';"
   ]
  },
  {
   "cell_type": "code",
   "execution_count": 11,
   "id": "c6478455-182b-42b1-b547-166278beb21a",
   "metadata": {},
   "outputs": [],
   "source": [
    "'''while True:\n",
    "    print('a')\n",
    "    \n",
    "    ''';"
   ]
  },
  {
   "cell_type": "code",
   "execution_count": 12,
   "id": "f359134b-b41e-4228-8817-dac0b0ac5354",
   "metadata": {},
   "outputs": [
    {
     "name": "stdout",
     "output_type": "stream",
     "text": [
      "Addition is: 100\n"
     ]
    }
   ],
   "source": [
    "# else\n",
    "\n",
    "count = 1\n",
    "add = 0\n",
    "\n",
    "while count <= 20:\n",
    "    add = add + count\n",
    "    count += 2\n",
    "else:\n",
    "    print('Addition is:', add)"
   ]
  },
  {
   "cell_type": "code",
   "execution_count": 13,
   "id": "d32f5af4-6899-4681-81b2-40e4c649ddd7",
   "metadata": {},
   "outputs": [
    {
     "name": "stdout",
     "output_type": "stream",
     "text": [
      "5\n",
      "1234\n"
     ]
    }
   ],
   "source": [
    "# find the addition of all the digits of a number \n",
    "# ex... 12345 => 1 + 2 + 3 + 4 + 5 = 15\n",
    "\n",
    "num = 12345\n",
    "\n",
    "print(num % 10)\n",
    "print(num // 10)"
   ]
  },
  {
   "cell_type": "code",
   "execution_count": 14,
   "id": "e8255adb-1564-48c1-b9d8-7fbd3ac7c8dd",
   "metadata": {},
   "outputs": [
    {
     "name": "stdin",
     "output_type": "stream",
     "text": [
      "Enter the number  12345\n"
     ]
    },
    {
     "name": "stdout",
     "output_type": "stream",
     "text": [
      "Addition of digits is: 15\n"
     ]
    }
   ],
   "source": [
    "num = int(input('Enter the number '))\n",
    "add = 0\n",
    "\n",
    "while num > 0:\n",
    "    rem = num % 10\n",
    "    add = add + rem\n",
    "    num = num // 10\n",
    "    \n",
    "print('Addition of digits is:', add)"
   ]
  },
  {
   "cell_type": "code",
   "execution_count": 15,
   "id": "1a349b92-07b1-489c-b1fb-8d3b28c6767a",
   "metadata": {},
   "outputs": [],
   "source": [
    "## For loop"
   ]
  },
  {
   "cell_type": "code",
   "execution_count": 16,
   "id": "f8c1f137-4afe-4981-a963-c2dc4901918d",
   "metadata": {},
   "outputs": [
    {
     "name": "stdout",
     "output_type": "stream",
     "text": [
      "34\n",
      "45\n",
      "21\n",
      "33\n",
      "57\n"
     ]
    }
   ],
   "source": [
    "for n in 34, 45, 21, 33, 57:\n",
    "    print(n)"
   ]
  },
  {
   "cell_type": "code",
   "execution_count": 17,
   "id": "6a897750-9df0-4789-9998-f7235158185c",
   "metadata": {},
   "outputs": [
    {
     "name": "stdout",
     "output_type": "stream",
     "text": [
      "17.0\n",
      "22.5\n",
      "10.5\n",
      "16.5\n",
      "28.5\n"
     ]
    }
   ],
   "source": [
    "for n in 34, 45, 21, 33, 57:\n",
    "    print(n/2)"
   ]
  },
  {
   "cell_type": "code",
   "execution_count": 19,
   "id": "e720d4d5-6e74-4fc8-96e2-4c0baa8c8e9a",
   "metadata": {},
   "outputs": [
    {
     "name": "stdout",
     "output_type": "stream",
     "text": [
      "34\n",
      "45\n",
      "21\n",
      "33\n",
      "57\n",
      "67.33\n",
      "Ayu\n",
      "True\n"
     ]
    }
   ],
   "source": [
    "for n in 34, 45, 21, 33, 57, 67.33, 'Ayu', True:\n",
    "    print(n)"
   ]
  },
  {
   "cell_type": "code",
   "execution_count": 20,
   "id": "014479c9-4f13-4af0-8039-eb0ff05145a5",
   "metadata": {},
   "outputs": [],
   "source": [
    "# range function"
   ]
  },
  {
   "cell_type": "code",
   "execution_count": 21,
   "id": "7cc1db8a-fb55-42a8-a65b-cd079812b94e",
   "metadata": {},
   "outputs": [
    {
     "data": {
      "text/plain": [
       "[0, 1, 2, 3, 4, 5, 6, 7, 8, 9]"
      ]
     },
     "execution_count": 21,
     "metadata": {},
     "output_type": "execute_result"
    }
   ],
   "source": [
    "list(range(10))"
   ]
  },
  {
   "cell_type": "code",
   "execution_count": 22,
   "id": "07316225-226a-4ab7-b299-437633ba916d",
   "metadata": {},
   "outputs": [
    {
     "data": {
      "text/plain": [
       "[5, 6, 7, 8, 9, 10, 11, 12, 13, 14, 15]"
      ]
     },
     "execution_count": 22,
     "metadata": {},
     "output_type": "execute_result"
    }
   ],
   "source": [
    "list(range(5, 16))"
   ]
  },
  {
   "cell_type": "code",
   "execution_count": 23,
   "id": "c6d0fbf3-30b7-4623-bc1d-af3713768552",
   "metadata": {},
   "outputs": [
    {
     "data": {
      "text/plain": [
       "[5, 8, 11, 14]"
      ]
     },
     "execution_count": 23,
     "metadata": {},
     "output_type": "execute_result"
    }
   ],
   "source": [
    "list(range(5, 16, 3))"
   ]
  },
  {
   "cell_type": "code",
   "execution_count": 24,
   "id": "93fedf1a-9aba-4ffd-bfba-c857b1b73234",
   "metadata": {},
   "outputs": [
    {
     "data": {
      "text/plain": [
       "[23,\n",
       " 22,\n",
       " 21,\n",
       " 20,\n",
       " 19,\n",
       " 18,\n",
       " 17,\n",
       " 16,\n",
       " 15,\n",
       " 14,\n",
       " 13,\n",
       " 12,\n",
       " 11,\n",
       " 10,\n",
       " 9,\n",
       " 8,\n",
       " 7,\n",
       " 6,\n",
       " 5,\n",
       " 4,\n",
       " 3,\n",
       " 2]"
      ]
     },
     "execution_count": 24,
     "metadata": {},
     "output_type": "execute_result"
    }
   ],
   "source": [
    "# range(start, end + 1, step)\n",
    "\n",
    "list(range(23, 1, -1))"
   ]
  },
  {
   "cell_type": "code",
   "execution_count": 25,
   "id": "ac084848-f0b7-4895-9141-a9bde989b77a",
   "metadata": {},
   "outputs": [
    {
     "name": "stdout",
     "output_type": "stream",
     "text": [
      "0\n",
      "1\n",
      "2\n",
      "3\n",
      "4\n"
     ]
    }
   ],
   "source": [
    "for n in range(5):\n",
    "    print(n)"
   ]
  },
  {
   "cell_type": "code",
   "execution_count": 26,
   "id": "78cc59f0-a079-417c-a36d-de1630016091",
   "metadata": {},
   "outputs": [
    {
     "name": "stdout",
     "output_type": "stream",
     "text": [
      "1\n",
      "4\n",
      "9\n",
      "16\n",
      "25\n"
     ]
    }
   ],
   "source": [
    "for n in range(1, 6):\n",
    "    print(n ** 2)"
   ]
  },
  {
   "cell_type": "code",
   "execution_count": 28,
   "id": "e4dac400-10c4-44cc-86b6-35790e48efd8",
   "metadata": {},
   "outputs": [
    {
     "name": "stdout",
     "output_type": "stream",
     "text": [
      "Ayush Ayush Ayush Ayush Ayush Ayush Ayush Ayush Ayush Ayush "
     ]
    }
   ],
   "source": [
    "# print your name 10 times using for loop\n",
    "\n",
    "for n in range(10):\n",
    "    print('Ayush', end = ' ')"
   ]
  },
  {
   "cell_type": "code",
   "execution_count": 29,
   "id": "b95b2487-7f82-4ee9-9843-c396c495d551",
   "metadata": {},
   "outputs": [
    {
     "name": "stdout",
     "output_type": "stream",
     "text": [
      "Addition is 55\n"
     ]
    }
   ],
   "source": [
    "# find the addition of 1 to 10 numbers\n",
    "\n",
    "add = 0\n",
    "\n",
    "for n in range(1, 11):\n",
    "    add = add + n\n",
    "    \n",
    "print('Addition is', add)"
   ]
  },
  {
   "cell_type": "code",
   "execution_count": 30,
   "id": "e597457a-49b7-4ac3-8fc2-e7f13e7e2bf4",
   "metadata": {},
   "outputs": [
    {
     "name": "stdout",
     "output_type": "stream",
     "text": [
      "Addition is 100\n"
     ]
    }
   ],
   "source": [
    "# find the addition of odd numbers from 1 to 20\n",
    "\n",
    "add = 0\n",
    "\n",
    "for n in range(1, 21, 2):\n",
    "    add = add + n\n",
    "    \n",
    "print('Addition is', add)"
   ]
  },
  {
   "cell_type": "code",
   "execution_count": 31,
   "id": "1b15ee85-2caa-4fce-96a4-0ba5a2fe007d",
   "metadata": {},
   "outputs": [
    {
     "name": "stdout",
     "output_type": "stream",
     "text": [
      "S\n",
      "a\n",
      "n\n",
      "i\n",
      "k\n",
      "a\n"
     ]
    }
   ],
   "source": [
    "for n in 'Sanika':\n",
    "    print(n)"
   ]
  },
  {
   "cell_type": "code",
   "execution_count": 32,
   "id": "4ff138be-ed89-4e03-91c1-1aba24316d9d",
   "metadata": {},
   "outputs": [
    {
     "name": "stdout",
     "output_type": "stream",
     "text": [
      "Sanika\n",
      "Dnyaneshwari\n"
     ]
    }
   ],
   "source": [
    "for n in 'Sanika', 'Dnyaneshwari':\n",
    "    print(n)"
   ]
  },
  {
   "cell_type": "code",
   "execution_count": 33,
   "id": "aa6eb6c1-c4cc-48bb-9ed8-90f96fa48c30",
   "metadata": {},
   "outputs": [
    {
     "name": "stdin",
     "output_type": "stream",
     "text": [
      "Enter the number  3\n"
     ]
    },
    {
     "name": "stdout",
     "output_type": "stream",
     "text": [
      "Factorial is 6\n"
     ]
    }
   ],
   "source": [
    "# factorial using for loop\n",
    "\n",
    "num = int(input('Enter the number '))\n",
    "\n",
    "fact = 1\n",
    "\n",
    "for n in range(1, num + 1):\n",
    "    fact = fact * n\n",
    "    \n",
    "print('Factorial is', fact)"
   ]
  },
  {
   "cell_type": "code",
   "execution_count": 34,
   "id": "7ad5a717-904f-4caa-be6c-46870f9055a9",
   "metadata": {},
   "outputs": [],
   "source": [
    "## break statement"
   ]
  },
  {
   "cell_type": "code",
   "execution_count": 35,
   "id": "886dccf9-25e7-47af-bb7d-b7611e1ffefc",
   "metadata": {},
   "outputs": [
    {
     "name": "stdout",
     "output_type": "stream",
     "text": [
      "1\n",
      "2\n",
      "3\n",
      "4\n"
     ]
    }
   ],
   "source": [
    "for n in range(1,11):\n",
    "    if n == 5:\n",
    "        break\n",
    "    print(n)"
   ]
  },
  {
   "cell_type": "code",
   "execution_count": 36,
   "id": "b97940cb-5954-458f-8960-dc6a4616a452",
   "metadata": {},
   "outputs": [
    {
     "name": "stdout",
     "output_type": "stream",
     "text": [
      "0\n",
      "1\n",
      "2\n",
      "3\n",
      "4\n",
      "5\n"
     ]
    }
   ],
   "source": [
    "count = 0\n",
    "\n",
    "while count <= 10:\n",
    "    print(count)\n",
    "    if count == 5:\n",
    "        break\n",
    "    count += 1"
   ]
  },
  {
   "cell_type": "code",
   "execution_count": 37,
   "id": "f815c794-7c19-44a3-b930-9c77d0d546ed",
   "metadata": {},
   "outputs": [],
   "source": [
    "## continue"
   ]
  },
  {
   "cell_type": "code",
   "execution_count": 38,
   "id": "d07f2eae-224b-444d-9bb8-f2df48bbb770",
   "metadata": {},
   "outputs": [
    {
     "name": "stdout",
     "output_type": "stream",
     "text": [
      "1\n",
      "2\n",
      "3\n",
      "4\n",
      "6\n",
      "7\n",
      "8\n",
      "9\n",
      "10\n"
     ]
    }
   ],
   "source": [
    "for n in range(1,11):\n",
    "    if n == 5:\n",
    "        continue\n",
    "    print(n)"
   ]
  },
  {
   "cell_type": "code",
   "execution_count": 39,
   "id": "b606281e-1259-4cd6-8689-6e337a877f6e",
   "metadata": {},
   "outputs": [],
   "source": [
    "'''\n",
    "*\n",
    "**\n",
    "***\n",
    "\n",
    "''';"
   ]
  },
  {
   "cell_type": "code",
   "execution_count": 40,
   "id": "e4bce427-e6ab-4011-b53d-2a6804de7fe7",
   "metadata": {},
   "outputs": [
    {
     "data": {
      "text/plain": [
       "[0, 1, 2]"
      ]
     },
     "execution_count": 40,
     "metadata": {},
     "output_type": "execute_result"
    }
   ],
   "source": [
    "list(range(3))"
   ]
  },
  {
   "cell_type": "code",
   "execution_count": 41,
   "id": "da52bef5-5fa7-4488-8a7e-6451e37b9643",
   "metadata": {},
   "outputs": [
    {
     "name": "stdin",
     "output_type": "stream",
     "text": [
      "Enter the number of rows 3\n"
     ]
    },
    {
     "name": "stdout",
     "output_type": "stream",
     "text": [
      "* \n",
      "* * \n",
      "* * * \n"
     ]
    }
   ],
   "source": [
    "rows = int(input('Enter the number of rows'))\n",
    "\n",
    "for i in range(1, rows + 1):\n",
    "    for j in range(i):\n",
    "        print('*', end = ' ')\n",
    "    print()"
   ]
  },
  {
   "cell_type": "code",
   "execution_count": null,
   "id": "226080af-12ae-4bfe-aedb-8a45362d299a",
   "metadata": {},
   "outputs": [],
   "source": []
  }
 ],
 "metadata": {
  "kernelspec": {
   "display_name": "Python 3 (ipykernel)",
   "language": "python",
   "name": "python3"
  },
  "language_info": {
   "codemirror_mode": {
    "name": "ipython",
    "version": 3
   },
   "file_extension": ".py",
   "mimetype": "text/x-python",
   "name": "python",
   "nbconvert_exporter": "python",
   "pygments_lexer": "ipython3",
   "version": "3.11.7"
  }
 },
 "nbformat": 4,
 "nbformat_minor": 5
}
