{
 "cells": [
  {
   "cell_type": "code",
   "execution_count": 2,
   "id": "7205d475-dbd4-494f-a4c9-acddca7ebde6",
   "metadata": {},
   "outputs": [],
   "source": [
    "#Q1: Write a program to convert specified days into years, weeks and days. Take user input. Note: Ignore leap year."
   ]
  },
  {
   "cell_type": "code",
   "execution_count": 1,
   "id": "98486f42-3f67-4798-bcb5-c38548420614",
   "metadata": {},
   "outputs": [
    {
     "name": "stdin",
     "output_type": "stream",
     "text": [
      "Enter the Days:-  700\n"
     ]
    },
    {
     "name": "stdout",
     "output_type": "stream",
     "text": [
      "Enter the Days:- 700\n",
      "1 Year :  11 Months :  5 Days\n"
     ]
    }
   ],
   "source": [
    "Given_days = int(input(\"Enter the Days:- \"))\n",
    "print(\"Enter the Days:-\", Given_days)\n",
    "\n",
    "days_in_year = 365\n",
    "days_in_month = 30\n",
    "\n",
    "Year = Given_days // days_in_year\n",
    "Rem_Days = Given_days % days_in_year\n",
    "\n",
    "Month = Rem_Days // days_in_month\n",
    "Days = Rem_Days % days_in_month\n",
    "\n",
    "print(Year,\"Year : \",Month ,\"Months : \",Days ,\"Days\")"
   ]
  },
  {
   "cell_type": "code",
   "execution_count": 3,
   "id": "098fc198-1b7c-4b57-9661-493b51d5d51d",
   "metadata": {},
   "outputs": [],
   "source": [
    "# Q2:Write a Python program to input basiPython salary of an employee and calculate its Gross salary according to following: Basic Salary <= 10000 : HRA = 20%, DA = 80% Basic Salary <= 20000 : HRA = 30%, DA = 90% Basic Salary > 20000 : HRA = 35%, DA =95%"
   ]
  },
  {
   "cell_type": "code",
   "execution_count": 4,
   "id": "0e377042-9093-4b20-bef0-9b75b5fc5ed3",
   "metadata": {},
   "outputs": [
    {
     "name": "stdin",
     "output_type": "stream",
     "text": [
      "Enter Salary:-  13000\n"
     ]
    },
    {
     "name": "stdout",
     "output_type": "stream",
     "text": [
      "Enter Salary:-  13000\n",
      "39001.2\n"
     ]
    }
   ],
   "source": [
    "Salary = int(input(\"Enter Salary:- \"))\n",
    "print(\"Enter Salary:- \",Salary)\n",
    "if Salary <= 10000:\n",
    "    G_Sal = Salary + 0.20 + Salary + 0.80 + Salary\n",
    "    print(G_Sal)\n",
    "elif Salary <= 20000:\n",
    "    G_Sal = Salary + 0.30 + Salary + 0.90 + Salary\n",
    "    print(G_Sal)\n",
    "else:\n",
    "    G_Sal = Salary + 0.35 + Salary + 0.95 + Salary\n",
    "    print(G_Sal)"
   ]
  },
  {
   "cell_type": "code",
   "execution_count": 5,
   "id": "4c54e028-bec2-4b15-8a7b-c805a148dfbe",
   "metadata": {},
   "outputs": [],
   "source": [
    "# Q3:Write a Python program to input electricity unit charges and calculate total electricity bill according to the given condition: For first 50 units Rs. 0.50/unit For next 100 units Rs. 0.75/unit For next 100 units Rs. 1.25/unit For unit above 250 Rs. 1.50/unit An additional surcharge of 17% is added to the bill"
   ]
  },
  {
   "cell_type": "code",
   "execution_count": 6,
   "id": "ba7e9bdf-e13c-45dd-a518-fde293b26521",
   "metadata": {},
   "outputs": [
    {
     "name": "stdin",
     "output_type": "stream",
     "text": [
      "Enter Units:-  56\n"
     ]
    },
    {
     "name": "stdout",
     "output_type": "stream",
     "text": [
      "Enter Units:-  56\n",
      "51.52\n"
     ]
    }
   ],
   "source": [
    "Electric_Units = int(input(\"Enter Units:- \"))\n",
    "print(\"Enter Units:- \", Electric_Units)\n",
    "\n",
    "if Electric_Units <= 50:\n",
    "    T_Bill = Electric_Units * 0.50 + 0.17 * Electric_Units\n",
    "    print(T_Bill)\n",
    "elif Electric_Units <= 150:\n",
    "    T_Bill = Electric_Units * 0.75 + 0.17 * Electric_Units\n",
    "    print(T_Bill)\n",
    "elif Electric_Untis <= 250:\n",
    "    T_Bill = Electric_Units * 1.25 + 0.17 * Electric_Units\n",
    "    print(T_Bill)\n",
    "else:\n",
    "    if Electric_Units > 250:\n",
    "        T_Bill = Electric_Units * 1.50 + 0.17 * Electric_Units\n",
    "        print(T_Bill)"
   ]
  },
  {
   "cell_type": "code",
   "execution_count": 7,
   "id": "b18e3536-df5c-4b8e-a892-7270a0af01e8",
   "metadata": {},
   "outputs": [],
   "source": [
    "# Q4:Write a Python program to print the given number patterns. 1 2 2 3 3 3 4 4 4 4 5 5 5 5 5"
   ]
  },
  {
   "cell_type": "code",
   "execution_count": 8,
   "id": "e0f9e7a2-47a6-490b-ab4f-36b724d5fe9a",
   "metadata": {},
   "outputs": [
    {
     "name": "stdout",
     "output_type": "stream",
     "text": [
      "\n",
      "1 \n",
      "2 2 \n",
      "3 3 3 \n",
      "4 4 4 4 \n",
      "5 5 5 5 5 \n"
     ]
    }
   ],
   "source": [
    "rows = 6\n",
    "\n",
    "for i in range(rows):\n",
    "    for j in range(i):\n",
    "        print(i, end = \" \")\n",
    "    print(\"\")"
   ]
  },
  {
   "cell_type": "code",
   "execution_count": 9,
   "id": "b9c51d63-24a1-4ad5-8916-93a680efe628",
   "metadata": {},
   "outputs": [],
   "source": [
    "# Q5:Write a Python program to calculate product of digits of a number. Read value of n from user."
   ]
  },
  {
   "cell_type": "code",
   "execution_count": 10,
   "id": "2d3b44bc-cd51-4b86-a880-a1ede23b2696",
   "metadata": {},
   "outputs": [
    {
     "name": "stdin",
     "output_type": "stream",
     "text": [
      "Enter Num :-  0\n"
     ]
    },
    {
     "name": "stdout",
     "output_type": "stream",
     "text": [
      "1\n"
     ]
    }
   ],
   "source": [
    "num = int(input(\"Enter Num :- \"))\n",
    "mu1 = 1\n",
    "\n",
    "while num > 0:\n",
    "    rem = num % 10\n",
    "    mu1 = mu1 * rem\n",
    "    num = num // 10\n",
    "else:\n",
    "    print(mu1)"
   ]
  },
  {
   "cell_type": "code",
   "execution_count": 12,
   "id": "ead6dd31-773c-4643-9dc8-da307ee4543b",
   "metadata": {},
   "outputs": [],
   "source": [
    "# Q6:Create a list of elements like: x = [45, 67, 12, ‘Hello’, 23.45, ‘World’] and oerform following operations\n",
    "\n",
    "#Extract only string values from this list.\n",
    "#Create a new list with strings in upper case.\n",
    "#Find the addition of integer values\n",
    "#Check that the value 56 is present in it or not.\n",
    "#Print the list in reverse order.\n",
    "#Delete the string ‘Hello’ from it.\n",
    "#Insert a new value of 36 at 5th position in list.\n",
    "#Count total number of elements in list now.\n",
    "#Extract the values from 2nd index to 5th index.\n",
    "#Append [34, ‘Pune’] to this list.\n",
    "#Delete the last element from list."
   ]
  },
  {
   "cell_type": "code",
   "execution_count": 13,
   "id": "61a91728-9e55-416b-87c4-2162cb61cbaa",
   "metadata": {},
   "outputs": [
    {
     "name": "stdout",
     "output_type": "stream",
     "text": [
      "1. Strings only: ['Hello', 'World']\n",
      "2. Strings in uppercase: ['HELLO', 'WORLD']\n",
      "3. Sum of integers: 124\n",
      "4. Is 56 present: False\n",
      "5. Reversed list: ['World', 23.45, 'Hello', 12, 67, 45]\n",
      "6. List after removing 'Hello': [45, 67, 12, 23.45, 'World']\n",
      "7. List after inserting 36 at 5th position: [45, 67, 12, 23.45, 36, 'World']\n",
      "8. Total number of elements: 6\n",
      "9. Values from 2nd index to 5th index: [67, 12, 23.45, 36]\n",
      "10. List after appending [34, 'Pune']: [45, 67, 12, 23.45, 36, 'World', 34, 'Pune']\n",
      "11. List after deleting the last element: [45, 67, 12, 23.45, 36, 'World', 34]\n"
     ]
    }
   ],
   "source": [
    "# Given list\n",
    "x = [45, 67, 12, 'Hello', 23.45, 'World']\n",
    "\n",
    "# 1. Extract only string values from this list.\n",
    "strings_only = [item for item in x if isinstance(item, str)]\n",
    "print(\"1. Strings only:\", strings_only)\n",
    "\n",
    "# 2. Create a new list with strings in upper case.\n",
    "upper_strings = [item.upper() for item in strings_only]\n",
    "print(\"2. Strings in uppercase:\", upper_strings)\n",
    "\n",
    "# 3. Find the addition of integer values\n",
    "sum_integers = sum([item for item in x if isinstance(item, int)])\n",
    "print(\"3. Sum of integers:\", sum_integers)\n",
    "\n",
    "# 4. Check if the value 56 is present in the list or not.\n",
    "is_56_present = 56 in x\n",
    "print(\"4. Is 56 present:\", is_56_present)\n",
    "\n",
    "# 5. Print the list in reverse order.\n",
    "reverse_list = x[::-1]\n",
    "print(\"5. Reversed list:\", reverse_list)\n",
    "\n",
    "# 6. Delete the string 'Hello' from it.\n",
    "x.remove('Hello')\n",
    "print(\"6. List after removing 'Hello':\", x)\n",
    "\n",
    "# 7. Insert a new value of 36 at 5th position in the list.\n",
    "x.insert(4, 36)\n",
    "print(\"7. List after inserting 36 at 5th position:\", x)\n",
    "\n",
    "# 8. Count total number of elements in the list now.\n",
    "total_elements = len(x)\n",
    "print(\"8. Total number of elements:\", total_elements)\n",
    "\n",
    "# 9. Extract the values from 2nd index to 5th index.\n",
    "extracted_values = x[1:5]\n",
    "print(\"9. Values from 2nd index to 5th index:\", extracted_values)\n",
    "\n",
    "# 10. Append [34, 'Pune'] to this list.\n",
    "x.extend([34, 'Pune'])\n",
    "print(\"10. List after appending [34, 'Pune']:\", x)\n",
    "\n",
    "# 11. Delete the last element from the list.\n",
    "del x[-1]\n",
    "print(\"11. List after deleting the last element:\", x)"
   ]
  },
  {
   "cell_type": "code",
   "execution_count": 15,
   "id": "5fa2a35c-e04a-46e7-be90-418f5bd6b22e",
   "metadata": {},
   "outputs": [],
   "source": [
    "# Q7:Create a tuple of elements with 5 float values in it and perform following operations.\n",
    "\n",
    "# 1 Print the data in sorted manner.\n",
    "# 2 Check to see that the element 50 is present in it.\n",
    "# 3 Convert this tuple in set."
   ]
  },
  {
   "cell_type": "code",
   "execution_count": 16,
   "id": "3c130b44-8aac-4108-a5fd-ba0be7fb6daf",
   "metadata": {},
   "outputs": [
    {
     "name": "stdout",
     "output_type": "stream",
     "text": [
      "Sorted data: [12.9, 23.5, 34.1, 45.6, 67.8]\n",
      "Is 50 present in the tuple? False\n",
      "Tuple converted to set: {34.1, 67.8, 12.9, 45.6, 23.5}\n"
     ]
    }
   ],
   "source": [
    "# Define a tuple with 5 float values\n",
    "float_tuple = (23.5, 45.6, 12.9, 67.8, 34.1)\n",
    "\n",
    "# 1. Print the data in sorted manner\n",
    "sorted_tuple = sorted(float_tuple)\n",
    "print(\"Sorted data:\", sorted_tuple)\n",
    "\n",
    "# 2. Check to see that the element 50 is present in it\n",
    "is_fifty_present = 50 in float_tuple\n",
    "print(\"Is 50 present in the tuple?\", is_fifty_present)\n",
    "\n",
    "# Convert this tuple to a set\n",
    "float_set = set(float_tuple)\n",
    "print(\"Tuple converted to set:\", float_set)"
   ]
  },
  {
   "cell_type": "code",
   "execution_count": 17,
   "id": "a0f51cd7-d3df-44a9-9b90-41ba1ab85b42",
   "metadata": {},
   "outputs": [],
   "source": [
    "# Q8:Create a dictionary of elements: {‘a’: ‘apple’, ‘b’: ‘ball’, ‘c’: ‘cat’, ‘d’: ‘doll’, ‘k’: ‘king’} and perform following operations.\n",
    "\n",
    "# 1 Access the data at key ‘k’\n",
    "# 2 Add a new values ‘z’: ‘zebra’\n",
    "# 3 Replace the contents of ‘d’ as ‘dog’\n",
    "# 4 Print all the values from this dictionary.\n",
    "# 5 Find the length of this dictionary"
   ]
  },
  {
   "cell_type": "code",
   "execution_count": 18,
   "id": "86cbf0b3-10dd-423a-8eb4-4f68e372f5bc",
   "metadata": {},
   "outputs": [
    {
     "name": "stdout",
     "output_type": "stream",
     "text": [
      "Value at key 'k': king\n",
      "Dictionary after adding 'z': 'zebra': {'a': 'apple', 'b': 'ball', 'c': 'cat', 'd': 'doll', 'k': 'king', 'z': 'zebra'}\n",
      "Dictionary after replacing 'd' with 'dog': {'a': 'apple', 'b': 'ball', 'c': 'cat', 'd': 'dog', 'k': 'king', 'z': 'zebra'}\n",
      "All values in the dictionary: ['apple', 'ball', 'cat', 'dog', 'king', 'zebra']\n",
      "Length of the dictionary: 6\n"
     ]
    }
   ],
   "source": [
    "# create a dictionary\n",
    "elements_dict = {'a': 'apple', 'b': 'ball', 'c': 'cat', 'd': 'doll', 'k': 'king'}\n",
    "\n",
    "# 1. Access the data at key 'k'\n",
    "value_at_k = elements_dict['k']\n",
    "print(\"Value at key 'k':\", value_at_k)\n",
    "\n",
    "# 2. Add a new value 'z': 'zebra'\n",
    "elements_dict['z'] = 'zebra'\n",
    "print(\"Dictionary after adding 'z': 'zebra':\", elements_dict)\n",
    "\n",
    "# 3. Replace the contents of 'd' with 'dog'\n",
    "elements_dict['d'] = 'dog'\n",
    "print(\"Dictionary after replacing 'd' with 'dog':\", elements_dict)\n",
    "\n",
    "# 4. Print all the values from this dictionary\n",
    "all_values = elements_dict.values()\n",
    "print(\"All values in the dictionary:\", list(all_values))\n",
    "\n",
    "# 5. Find the length of this dictionary\n",
    "dict_length = len(elements_dict)\n",
    "print(\"Length of the dictionary:\", dict_length)"
   ]
  },
  {
   "cell_type": "code",
   "execution_count": 19,
   "id": "ab7bea00-b95b-4a7b-b6b0-e14d196b3027",
   "metadata": {},
   "outputs": [],
   "source": [
    "# Q9:Write a program to find the second largest element in a list."
   ]
  },
  {
   "cell_type": "code",
   "execution_count": 20,
   "id": "2cff415d-fa1b-49c0-93e2-566165f8c86f",
   "metadata": {},
   "outputs": [
    {
     "name": "stdout",
     "output_type": "stream",
     "text": [
      "The second largest element is: 41\n"
     ]
    }
   ],
   "source": [
    "def find_second_largest(nums):\n",
    "    if len(nums) < 2:\n",
    "        return None  # Not enough elements to determine the second largest\n",
    "\n",
    "    first, second = float('-inf'), float('-inf')\n",
    "    \n",
    "    for num in nums:\n",
    "        if num > first:\n",
    "            second = first\n",
    "            first = num\n",
    "        elif first > num > second:\n",
    "            second = num\n",
    "            \n",
    "    return second if second != float('-inf') else None\n",
    "\n",
    "# Example row\n",
    "numbers = [12, 45, 2, 41, 31, 18, 40]\n",
    "\n",
    "# Find and print the second largest element\n",
    "second_largest = find_second_largest(numbers)\n",
    "print(\"The second largest element is:\", second_largest)"
   ]
  },
  {
   "cell_type": "code",
   "execution_count": 21,
   "id": "5bb3f371-523a-4eba-a21f-7b18d73a3218",
   "metadata": {},
   "outputs": [],
   "source": [
    "# Q10:This is a list of some metallic elements. metals = [ 'silver','gold', ... ] Make a new list that is almost identical to the metals list: the new contains the same items, in the same order, except that it does NOT contain the item 'copper'."
   ]
  },
  {
   "cell_type": "code",
   "execution_count": 22,
   "id": "6be00195-4ac2-4999-af6e-d1773fe3d7a9",
   "metadata": {},
   "outputs": [
    {
     "name": "stdout",
     "output_type": "stream",
     "text": [
      "List without 'copper': ['silver', 'gold', 'platinum', 'iron', 'nickel']\n"
     ]
    }
   ],
   "source": [
    "# given list\n",
    "metals = ['silver', 'gold', 'copper', 'platinum', 'iron', 'nickel']\n",
    "\n",
    "# Create a new list without'copper'\n",
    "metals_without_copper = [metal for metal in metals if metal != 'copper']\n",
    "\n",
    "# Print the new list\n",
    "print(\"List without 'copper':\", metals_without_copper)"
   ]
  },
  {
   "cell_type": "code",
   "execution_count": null,
   "id": "2fa21db1-3669-4d71-919b-771065c59f5f",
   "metadata": {},
   "outputs": [],
   "source": []
  }
 ],
 "metadata": {
  "kernelspec": {
   "display_name": "Python 3 (ipykernel)",
   "language": "python",
   "name": "python3"
  },
  "language_info": {
   "codemirror_mode": {
    "name": "ipython",
    "version": 3
   },
   "file_extension": ".py",
   "mimetype": "text/x-python",
   "name": "python",
   "nbconvert_exporter": "python",
   "pygments_lexer": "ipython3",
   "version": "3.11.7"
  }
 },
 "nbformat": 4,
 "nbformat_minor": 5
}
