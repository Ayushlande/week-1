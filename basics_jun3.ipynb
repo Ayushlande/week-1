{
 "cells": [
  {
   "cell_type": "code",
   "execution_count": 1,
   "id": "99d4286f-98f9-452a-ae66-6cfb4b3bb3b7",
   "metadata": {},
   "outputs": [
    {
     "name": "stdout",
     "output_type": "stream",
     "text": [
      "Hello World\n"
     ]
    }
   ],
   "source": [
    "print(\"Hello World\")"
   ]
  },
  {
   "cell_type": "code",
   "execution_count": 2,
   "id": "1f7cfbcc-81ef-4bb7-af29-abf56457c941",
   "metadata": {},
   "outputs": [],
   "source": [
    "num = 34"
   ]
  },
  {
   "cell_type": "code",
   "execution_count": 3,
   "id": "c5fcd483-6bcf-4182-8c6f-8eabe55e64ab",
   "metadata": {},
   "outputs": [
    {
     "name": "stdout",
     "output_type": "stream",
     "text": [
      "34\n"
     ]
    }
   ],
   "source": [
    "print(num)"
   ]
  },
  {
   "cell_type": "code",
   "execution_count": 4,
   "id": "35b61992-0409-4ec6-8e3c-7efbd5aece6a",
   "metadata": {},
   "outputs": [
    {
     "name": "stdout",
     "output_type": "stream",
     "text": [
      "num\n"
     ]
    }
   ],
   "source": [
    "print('num')"
   ]
  },
  {
   "cell_type": "code",
   "execution_count": 5,
   "id": "016bcc1d-302b-41a2-83de-40f47ee97ecd",
   "metadata": {},
   "outputs": [],
   "source": [
    "num1 = 40"
   ]
  },
  {
   "cell_type": "code",
   "execution_count": 6,
   "id": "9b78615d-028f-4ba7-927d-4438ba895861",
   "metadata": {},
   "outputs": [
    {
     "name": "stdout",
     "output_type": "stream",
     "text": [
      "40\n"
     ]
    }
   ],
   "source": [
    "print(num1)"
   ]
  },
  {
   "cell_type": "code",
   "execution_count": 7,
   "id": "3b514d1d-0d1d-45a3-adc1-9beea2a36a43",
   "metadata": {},
   "outputs": [],
   "source": [
    "rate_of_interest = 50"
   ]
  },
  {
   "cell_type": "code",
   "execution_count": 8,
   "id": "9d36736c-6f44-43eb-a132-98b037cb31ec",
   "metadata": {},
   "outputs": [
    {
     "data": {
      "text/plain": [
       "50"
      ]
     },
     "execution_count": 8,
     "metadata": {},
     "output_type": "execute_result"
    }
   ],
   "source": [
    "rate_of_interest"
   ]
  },
  {
   "cell_type": "code",
   "execution_count": 9,
   "id": "4c673388-4e84-4228-8c78-665d59be492b",
   "metadata": {},
   "outputs": [],
   "source": [
    "num2 = 45.42"
   ]
  },
  {
   "cell_type": "code",
   "execution_count": 10,
   "id": "d42cacd6-0590-400f-8c2e-cdbcbc7c7f7c",
   "metadata": {},
   "outputs": [
    {
     "data": {
      "text/plain": [
       "45.42"
      ]
     },
     "execution_count": 10,
     "metadata": {},
     "output_type": "execute_result"
    }
   ],
   "source": [
    "num2"
   ]
  },
  {
   "cell_type": "code",
   "execution_count": 11,
   "id": "720f64e2-0c6d-4799-bf5d-aeb00a8c6fbf",
   "metadata": {},
   "outputs": [],
   "source": [
    "num3 = 'Ayush'"
   ]
  },
  {
   "cell_type": "code",
   "execution_count": 12,
   "id": "f7e6cd70-bea7-4f70-b60c-c8ceddc9186c",
   "metadata": {},
   "outputs": [
    {
     "data": {
      "text/plain": [
       "'Ayush'"
      ]
     },
     "execution_count": 12,
     "metadata": {},
     "output_type": "execute_result"
    }
   ],
   "source": [
    "num3"
   ]
  },
  {
   "cell_type": "code",
   "execution_count": 13,
   "id": "dbe0cdb4-6bb4-44f5-8168-26c2dcac6c85",
   "metadata": {},
   "outputs": [
    {
     "name": "stdout",
     "output_type": "stream",
     "text": [
      "Ayush\n"
     ]
    }
   ],
   "source": [
    "print(num3)"
   ]
  },
  {
   "cell_type": "code",
   "execution_count": 15,
   "id": "c96f77b2-6b38-4be3-8285-b1f6165af34e",
   "metadata": {},
   "outputs": [],
   "source": [
    "num1 = 34\n",
    "num2 = 56.70\n",
    "num3 = 'Ayush'"
   ]
  },
  {
   "cell_type": "code",
   "execution_count": 16,
   "id": "3d834120-3d20-4cb9-b91d-a75f206b1691",
   "metadata": {},
   "outputs": [
    {
     "data": {
      "text/plain": [
       "int"
      ]
     },
     "execution_count": 16,
     "metadata": {},
     "output_type": "execute_result"
    }
   ],
   "source": [
    "type(num1)"
   ]
  },
  {
   "cell_type": "code",
   "execution_count": 17,
   "id": "346141d1-5d25-4ed8-8484-3dbd624275a6",
   "metadata": {},
   "outputs": [
    {
     "data": {
      "text/plain": [
       "float"
      ]
     },
     "execution_count": 17,
     "metadata": {},
     "output_type": "execute_result"
    }
   ],
   "source": [
    "type(num2)"
   ]
  },
  {
   "cell_type": "code",
   "execution_count": 18,
   "id": "a67e4774-fdac-44b5-af41-408e9da204af",
   "metadata": {},
   "outputs": [
    {
     "data": {
      "text/plain": [
       "str"
      ]
     },
     "execution_count": 18,
     "metadata": {},
     "output_type": "execute_result"
    }
   ],
   "source": [
    "type(num3)"
   ]
  },
  {
   "cell_type": "code",
   "execution_count": 19,
   "id": "d978eba4-bf71-45a1-96e1-9aee12b7660a",
   "metadata": {},
   "outputs": [],
   "source": [
    "Pass = 23"
   ]
  },
  {
   "cell_type": "code",
   "execution_count": 20,
   "id": "7184aa4c-e70a-4ed2-86fd-5e890c6f9b33",
   "metadata": {},
   "outputs": [
    {
     "data": {
      "text/plain": [
       "23"
      ]
     },
     "execution_count": 20,
     "metadata": {},
     "output_type": "execute_result"
    }
   ],
   "source": [
    "Pass"
   ]
  },
  {
   "cell_type": "code",
   "execution_count": 21,
   "id": "5d3f4b37-0e3c-415f-a8d4-098aa20f10e1",
   "metadata": {},
   "outputs": [
    {
     "data": {
      "text/plain": [
       "34"
      ]
     },
     "execution_count": 21,
     "metadata": {},
     "output_type": "execute_result"
    }
   ],
   "source": [
    "num1 "
   ]
  },
  {
   "cell_type": "code",
   "execution_count": 22,
   "id": "df393346-df04-47e7-b302-e88763af4bf2",
   "metadata": {},
   "outputs": [
    {
     "data": {
      "text/plain": [
       "94"
      ]
     },
     "execution_count": 22,
     "metadata": {},
     "output_type": "execute_result"
    }
   ],
   "source": [
    "num1 + 60"
   ]
  },
  {
   "cell_type": "code",
   "execution_count": 23,
   "id": "8a988af0-f687-4877-a983-b71cc558f4ef",
   "metadata": {},
   "outputs": [
    {
     "name": "stdout",
     "output_type": "stream",
     "text": [
      "94\n"
     ]
    }
   ],
   "source": [
    "num1 = num1 + 60\n",
    "print(num1)"
   ]
  },
  {
   "cell_type": "code",
   "execution_count": 24,
   "id": "86d6826d-4e9f-4d60-a388-d11bff158166",
   "metadata": {},
   "outputs": [
    {
     "data": {
      "text/plain": [
       "246641181115674737572879729341852535845472679757957754711192657811148368546919174892110514866890661477499569337982885118937606860303163841070295398866533607809337852636197147315418929700392210651462724440708238178309894185203135792833848980162110753995902211626781494555216499024596716764902905744552108703670952535150525584801258802660812558084288017019479915631022570801002600528952445860747026702812407505259499851902779696981336334270791833799249293419903723739814800148096510712657333600844001944025174923762462743966499744099328929215674401276706442416675497711018975607489895414956665559258785226987261082702619240200148253830815546451425440080451512540457184681742016177"
      ]
     },
     "execution_count": 24,
     "metadata": {},
     "output_type": "execute_result"
    }
   ],
   "source": [
    "num = 321553 ** 123\n",
    "num"
   ]
  },
  {
   "cell_type": "code",
   "execution_count": 25,
   "id": "2e67c4b0-20d9-4e9c-b1f0-3223bf98276f",
   "metadata": {},
   "outputs": [],
   "source": [
    "# float datatype"
   ]
  },
  {
   "cell_type": "code",
   "execution_count": 26,
   "id": "59717b2b-be15-4dc3-a858-81da0a886874",
   "metadata": {},
   "outputs": [],
   "source": [
    "num2 = 55.33"
   ]
  },
  {
   "cell_type": "code",
   "execution_count": 27,
   "id": "bca62b58-e69b-40aa-a6bc-064a1d92e00d",
   "metadata": {},
   "outputs": [
    {
     "data": {
      "text/plain": [
       "670.0463"
      ]
     },
     "execution_count": 27,
     "metadata": {},
     "output_type": "execute_result"
    }
   ],
   "source": [
    "result = num2 * 12.11\n",
    "result"
   ]
  },
  {
   "cell_type": "code",
   "execution_count": 28,
   "id": "295dc974-c36d-4da1-8f97-4ce5e412537a",
   "metadata": {},
   "outputs": [],
   "source": [
    "y = 56e3  # => e3 = 10 ** 3"
   ]
  },
  {
   "cell_type": "code",
   "execution_count": 29,
   "id": "cd09e5c2-6ca3-4e05-8efa-e4ba8885ac8b",
   "metadata": {},
   "outputs": [
    {
     "data": {
      "text/plain": [
       "56000.0"
      ]
     },
     "execution_count": 29,
     "metadata": {},
     "output_type": "execute_result"
    }
   ],
   "source": [
    "y"
   ]
  },
  {
   "cell_type": "code",
   "execution_count": 30,
   "id": "c806785f-104e-46b6-a9bd-a2c5819a4b31",
   "metadata": {},
   "outputs": [],
   "source": [
    "z = 49e-2"
   ]
  },
  {
   "cell_type": "code",
   "execution_count": 31,
   "id": "dac65da4-72f1-4379-b71f-31b07678b566",
   "metadata": {},
   "outputs": [
    {
     "data": {
      "text/plain": [
       "0.49"
      ]
     },
     "execution_count": 31,
     "metadata": {},
     "output_type": "execute_result"
    }
   ],
   "source": [
    "z"
   ]
  },
  {
   "cell_type": "code",
   "execution_count": 32,
   "id": "270471ac-b200-4c44-8ad7-d4426f65caa5",
   "metadata": {},
   "outputs": [],
   "source": [
    "# string datatype"
   ]
  },
  {
   "cell_type": "code",
   "execution_count": 33,
   "id": "3d6532bb-51fe-422a-8362-db00a447251c",
   "metadata": {},
   "outputs": [],
   "source": [
    "name = 'Ayush'"
   ]
  },
  {
   "cell_type": "code",
   "execution_count": 34,
   "id": "cd1339f7-e8c0-4676-829a-4d2b484c97d5",
   "metadata": {},
   "outputs": [
    {
     "name": "stdout",
     "output_type": "stream",
     "text": [
      "Ayush\n"
     ]
    }
   ],
   "source": [
    "print(name)"
   ]
  },
  {
   "cell_type": "code",
   "execution_count": 37,
   "id": "0313b698-b042-4c3c-8339-0cc1aba2935f",
   "metadata": {},
   "outputs": [],
   "source": [
    "sent = 'I like cricket'"
   ]
  },
  {
   "cell_type": "code",
   "execution_count": 38,
   "id": "f867f1cd-1cff-4293-85ec-7edb14ac7791",
   "metadata": {},
   "outputs": [
    {
     "name": "stdout",
     "output_type": "stream",
     "text": [
      "I like cricket\n"
     ]
    }
   ],
   "source": [
    "print(sent)"
   ]
  },
  {
   "cell_type": "code",
   "execution_count": 39,
   "id": "0ebbdade-cd4d-477b-81f9-23e52b5d124b",
   "metadata": {},
   "outputs": [],
   "source": [
    "sent = \"I like 'Cricket'\""
   ]
  },
  {
   "cell_type": "code",
   "execution_count": 40,
   "id": "8cd9ff3c-31cf-48da-91e8-60592ff0a2b2",
   "metadata": {},
   "outputs": [
    {
     "name": "stdout",
     "output_type": "stream",
     "text": [
      "I like 'Cricket'\n"
     ]
    }
   ],
   "source": [
    "print(sent)"
   ]
  },
  {
   "cell_type": "code",
   "execution_count": 41,
   "id": "72bb1020-65c7-425d-8145-5e1648ac8693",
   "metadata": {},
   "outputs": [],
   "source": [
    "sent = 'I like \"Cricket\"'"
   ]
  },
  {
   "cell_type": "code",
   "execution_count": 42,
   "id": "f8751ece-2b0e-497f-bb56-3318ec57af98",
   "metadata": {},
   "outputs": [
    {
     "name": "stdout",
     "output_type": "stream",
     "text": [
      "I like \"Cricket\"\n"
     ]
    }
   ],
   "source": [
    "print(sent)"
   ]
  },
  {
   "cell_type": "code",
   "execution_count": 43,
   "id": "c27e3087-f184-4baa-b059-040ea0768831",
   "metadata": {},
   "outputs": [],
   "source": [
    "# multiple assignment\n",
    "\n",
    "num1, num2, num3 = 12, 34.45, 'Ayush'"
   ]
  },
  {
   "cell_type": "code",
   "execution_count": 44,
   "id": "1329dcee-66cd-4c8a-8956-1ba8ab127a5a",
   "metadata": {},
   "outputs": [
    {
     "data": {
      "text/plain": [
       "12"
      ]
     },
     "execution_count": 44,
     "metadata": {},
     "output_type": "execute_result"
    }
   ],
   "source": [
    "num1"
   ]
  },
  {
   "cell_type": "code",
   "execution_count": 46,
   "id": "e8735c0f-447a-4a4a-9f31-ddd0a70d0211",
   "metadata": {},
   "outputs": [
    {
     "data": {
      "text/plain": [
       "34.45"
      ]
     },
     "execution_count": 46,
     "metadata": {},
     "output_type": "execute_result"
    }
   ],
   "source": [
    "num2"
   ]
  },
  {
   "cell_type": "code",
   "execution_count": 47,
   "id": "91969916-e696-4fe7-ab33-5143c84c5d31",
   "metadata": {},
   "outputs": [
    {
     "data": {
      "text/plain": [
       "'Ayush'"
      ]
     },
     "execution_count": 47,
     "metadata": {},
     "output_type": "execute_result"
    }
   ],
   "source": [
    "num3"
   ]
  },
  {
   "cell_type": "code",
   "execution_count": 48,
   "id": "f3d82a53-4b0b-4ff8-b3a1-a26aae221678",
   "metadata": {},
   "outputs": [
    {
     "name": "stdout",
     "output_type": "stream",
     "text": [
      "12 Ayush 34.45\n"
     ]
    }
   ],
   "source": [
    "print(num1, num3, num2)"
   ]
  },
  {
   "cell_type": "code",
   "execution_count": 49,
   "id": "7a0b4b39-130a-4b8d-be41-5c2142ee5f9d",
   "metadata": {},
   "outputs": [
    {
     "name": "stdout",
     "output_type": "stream",
     "text": [
      "75\n"
     ]
    }
   ],
   "source": [
    "num1 = 45\n",
    "num2 = 30\n",
    "result = num1 + num2\n",
    "print(result)"
   ]
  },
  {
   "cell_type": "code",
   "execution_count": 50,
   "id": "22e9a3ea-cbe7-450b-9322-32a637c62f92",
   "metadata": {},
   "outputs": [
    {
     "name": "stdout",
     "output_type": "stream",
     "text": [
      "75\n"
     ]
    }
   ],
   "source": [
    "num1 = 45; num2 = 30; result = num1 + num2; print(result)"
   ]
  },
  {
   "cell_type": "code",
   "execution_count": 51,
   "id": "a6b13f86-36ec-4671-ac62-3f4940f1e399",
   "metadata": {},
   "outputs": [],
   "source": [
    "## string operations"
   ]
  },
  {
   "cell_type": "code",
   "execution_count": 52,
   "id": "6d4ab98f-c3b2-4443-8a5e-ba1c53f2176b",
   "metadata": {},
   "outputs": [],
   "source": [
    "name = 'Ayush'"
   ]
  },
  {
   "cell_type": "code",
   "execution_count": 53,
   "id": "bf3cee3e-edef-4f28-9e0a-b68d97900971",
   "metadata": {},
   "outputs": [
    {
     "data": {
      "text/plain": [
       "'ayush'"
      ]
     },
     "execution_count": 53,
     "metadata": {},
     "output_type": "execute_result"
    }
   ],
   "source": [
    "name.lower()"
   ]
  },
  {
   "cell_type": "code",
   "execution_count": 54,
   "id": "9552af9b-185d-4a1d-b153-9adea0c1b5a3",
   "metadata": {},
   "outputs": [
    {
     "data": {
      "text/plain": [
       "'AYUSH'"
      ]
     },
     "execution_count": 54,
     "metadata": {},
     "output_type": "execute_result"
    }
   ],
   "source": [
    "name.upper()"
   ]
  },
  {
   "cell_type": "code",
   "execution_count": 55,
   "id": "abb00974-3856-44ee-8d00-2bcd465a260d",
   "metadata": {},
   "outputs": [
    {
     "data": {
      "text/plain": [
       "'aYUSH'"
      ]
     },
     "execution_count": 55,
     "metadata": {},
     "output_type": "execute_result"
    }
   ],
   "source": [
    "name.swapcase()"
   ]
  },
  {
   "cell_type": "code",
   "execution_count": 56,
   "id": "f1968150-317c-46ff-aea9-f16bcd201954",
   "metadata": {},
   "outputs": [
    {
     "data": {
      "text/plain": [
       "5"
      ]
     },
     "execution_count": 56,
     "metadata": {},
     "output_type": "execute_result"
    }
   ],
   "source": [
    "len(name)"
   ]
  },
  {
   "cell_type": "code",
   "execution_count": 57,
   "id": "ec0f2e10-02a7-4609-8cb2-01c212c519cb",
   "metadata": {},
   "outputs": [
    {
     "data": {
      "text/plain": [
       "'Ayush'"
      ]
     },
     "execution_count": 57,
     "metadata": {},
     "output_type": "execute_result"
    }
   ],
   "source": [
    "name"
   ]
  },
  {
   "cell_type": "code",
   "execution_count": 58,
   "id": "274b344f-a337-4b59-b4ad-c2070e179226",
   "metadata": {},
   "outputs": [
    {
     "data": {
      "text/plain": [
       "False"
      ]
     },
     "execution_count": 58,
     "metadata": {},
     "output_type": "execute_result"
    }
   ],
   "source": [
    "name.isupper()"
   ]
  },
  {
   "cell_type": "code",
   "execution_count": 59,
   "id": "007b2685-20a2-4624-b2b5-81d3165eab0f",
   "metadata": {},
   "outputs": [
    {
     "data": {
      "text/plain": [
       "False"
      ]
     },
     "execution_count": 59,
     "metadata": {},
     "output_type": "execute_result"
    }
   ],
   "source": [
    "name.islower()"
   ]
  },
  {
   "cell_type": "code",
   "execution_count": 60,
   "id": "5f64e795-1b90-4b61-899d-7a297fe9e35a",
   "metadata": {},
   "outputs": [
    {
     "data": {
      "text/plain": [
       "True"
      ]
     },
     "execution_count": 60,
     "metadata": {},
     "output_type": "execute_result"
    }
   ],
   "source": [
    "name.istitle()"
   ]
  },
  {
   "cell_type": "code",
   "execution_count": 61,
   "id": "57233dbf-23d4-4e69-816b-b1eea8f5082e",
   "metadata": {},
   "outputs": [],
   "source": [
    "n1 = 'ajAy'"
   ]
  },
  {
   "cell_type": "code",
   "execution_count": 62,
   "id": "d189f7af-c6e3-41a2-8c01-8407d1ee412b",
   "metadata": {},
   "outputs": [
    {
     "data": {
      "text/plain": [
       "'AJAY'"
      ]
     },
     "execution_count": 62,
     "metadata": {},
     "output_type": "execute_result"
    }
   ],
   "source": [
    "n1.upper()"
   ]
  },
  {
   "cell_type": "code",
   "execution_count": 63,
   "id": "49c04a76-a0f1-460f-accd-68f6637c81a3",
   "metadata": {},
   "outputs": [
    {
     "data": {
      "text/plain": [
       "'Ajay'"
      ]
     },
     "execution_count": 63,
     "metadata": {},
     "output_type": "execute_result"
    }
   ],
   "source": [
    "n1.title()"
   ]
  },
  {
   "cell_type": "code",
   "execution_count": 64,
   "id": "6a424da3-9864-45df-a28e-3bf69c67080c",
   "metadata": {},
   "outputs": [],
   "source": [
    "a = '23'"
   ]
  },
  {
   "cell_type": "code",
   "execution_count": 65,
   "id": "1168f07b-14cc-4708-a259-1c16c48bac6d",
   "metadata": {},
   "outputs": [
    {
     "data": {
      "text/plain": [
       "str"
      ]
     },
     "execution_count": 65,
     "metadata": {},
     "output_type": "execute_result"
    }
   ],
   "source": [
    "type(a)"
   ]
  },
  {
   "cell_type": "code",
   "execution_count": 66,
   "id": "8983f25e-abba-48bb-b440-45b6fd86a1c3",
   "metadata": {},
   "outputs": [],
   "source": [
    "data1 = 'Ayush'\n",
    "data2 = '5545'\n",
    "data3 = 'A72'"
   ]
  },
  {
   "cell_type": "code",
   "execution_count": 67,
   "id": "dbe8c70d-4c73-46cb-a5e4-e3f476f9392e",
   "metadata": {},
   "outputs": [
    {
     "data": {
      "text/plain": [
       "True"
      ]
     },
     "execution_count": 67,
     "metadata": {},
     "output_type": "execute_result"
    }
   ],
   "source": [
    "data1.isalpha()"
   ]
  },
  {
   "cell_type": "code",
   "execution_count": 68,
   "id": "3085ac2f-a63d-4089-9f12-6a96cb0d73fd",
   "metadata": {},
   "outputs": [
    {
     "data": {
      "text/plain": [
       "False"
      ]
     },
     "execution_count": 68,
     "metadata": {},
     "output_type": "execute_result"
    }
   ],
   "source": [
    "data2.isalpha()"
   ]
  },
  {
   "cell_type": "code",
   "execution_count": 69,
   "id": "12a22e0a-c47a-4300-8558-3d2c490f9eee",
   "metadata": {},
   "outputs": [
    {
     "data": {
      "text/plain": [
       "False"
      ]
     },
     "execution_count": 69,
     "metadata": {},
     "output_type": "execute_result"
    }
   ],
   "source": [
    "data3.isalpha()"
   ]
  },
  {
   "cell_type": "code",
   "execution_count": 70,
   "id": "28ee08c7-74c2-47b9-8188-d6b051118221",
   "metadata": {},
   "outputs": [
    {
     "data": {
      "text/plain": [
       "False"
      ]
     },
     "execution_count": 70,
     "metadata": {},
     "output_type": "execute_result"
    }
   ],
   "source": [
    "data1.isdigit()"
   ]
  },
  {
   "cell_type": "code",
   "execution_count": 71,
   "id": "3444fc95-7b6d-4b4a-af03-daf42b2d189b",
   "metadata": {},
   "outputs": [
    {
     "data": {
      "text/plain": [
       "True"
      ]
     },
     "execution_count": 71,
     "metadata": {},
     "output_type": "execute_result"
    }
   ],
   "source": [
    "data2.isdigit()"
   ]
  },
  {
   "cell_type": "code",
   "execution_count": 72,
   "id": "588b820d-d844-4ea3-b1df-f6264546a2c1",
   "metadata": {},
   "outputs": [
    {
     "data": {
      "text/plain": [
       "False"
      ]
     },
     "execution_count": 72,
     "metadata": {},
     "output_type": "execute_result"
    }
   ],
   "source": [
    "data3.isdigit()"
   ]
  },
  {
   "cell_type": "code",
   "execution_count": 73,
   "id": "e252231e-d4c6-4925-8704-410e83e8254d",
   "metadata": {},
   "outputs": [],
   "source": [
    "data = ' Ayush'"
   ]
  },
  {
   "cell_type": "code",
   "execution_count": 74,
   "id": "dc4fdd51-49c0-47c3-9556-8c0459b1a590",
   "metadata": {},
   "outputs": [
    {
     "name": "stdout",
     "output_type": "stream",
     "text": [
      " Ayush\n"
     ]
    }
   ],
   "source": [
    "print(data)"
   ]
  },
  {
   "cell_type": "code",
   "execution_count": 75,
   "id": "e0a11f9c-166d-4e1d-911c-ef6f74e02463",
   "metadata": {},
   "outputs": [
    {
     "data": {
      "text/plain": [
       "'Ayush'"
      ]
     },
     "execution_count": 75,
     "metadata": {},
     "output_type": "execute_result"
    }
   ],
   "source": [
    "data.lstrip()"
   ]
  },
  {
   "cell_type": "code",
   "execution_count": 76,
   "id": "c51f3a36-0778-4b68-b22e-af1e3e72bea8",
   "metadata": {},
   "outputs": [
    {
     "data": {
      "text/plain": [
       "' Ayush'"
      ]
     },
     "execution_count": 76,
     "metadata": {},
     "output_type": "execute_result"
    }
   ],
   "source": [
    "data.rstrip()"
   ]
  },
  {
   "cell_type": "code",
   "execution_count": 77,
   "id": "8c84d1e2-3f5b-4c46-a1ad-bf48c745ecb9",
   "metadata": {},
   "outputs": [
    {
     "data": {
      "text/plain": [
       "'Ayush'"
      ]
     },
     "execution_count": 77,
     "metadata": {},
     "output_type": "execute_result"
    }
   ],
   "source": [
    "data = data.strip()\n",
    "data"
   ]
  },
  {
   "cell_type": "code",
   "execution_count": 78,
   "id": "250cf8b1-a606-4958-ac22-b80c7f51e279",
   "metadata": {},
   "outputs": [
    {
     "data": {
      "text/plain": [
       "'Ayush'"
      ]
     },
     "execution_count": 78,
     "metadata": {},
     "output_type": "execute_result"
    }
   ],
   "source": [
    "data"
   ]
  },
  {
   "cell_type": "code",
   "execution_count": 79,
   "id": "29b0f1dd-7219-4905-aef9-00be4b2d9c1e",
   "metadata": {},
   "outputs": [
    {
     "data": {
      "text/plain": [
       "True"
      ]
     },
     "execution_count": 79,
     "metadata": {},
     "output_type": "execute_result"
    }
   ],
   "source": [
    "data.startswith('A')"
   ]
  },
  {
   "cell_type": "code",
   "execution_count": 81,
   "id": "a37440da-73f1-430a-bee4-d0ab2c106181",
   "metadata": {},
   "outputs": [
    {
     "data": {
      "text/plain": [
       "True"
      ]
     },
     "execution_count": 81,
     "metadata": {},
     "output_type": "execute_result"
    }
   ],
   "source": [
    "data.startswith('Ay')"
   ]
  },
  {
   "cell_type": "code",
   "execution_count": 83,
   "id": "21baf26d-158c-4d9b-864b-0f4ed34b7c97",
   "metadata": {},
   "outputs": [
    {
     "data": {
      "text/plain": [
       "True"
      ]
     },
     "execution_count": 83,
     "metadata": {},
     "output_type": "execute_result"
    }
   ],
   "source": [
    "data.endswith('h')"
   ]
  },
  {
   "cell_type": "code",
   "execution_count": 84,
   "id": "335430c4-0c54-417d-9ce7-457d27fc73f8",
   "metadata": {},
   "outputs": [
    {
     "data": {
      "text/plain": [
       "'Aayush'"
      ]
     },
     "execution_count": 84,
     "metadata": {},
     "output_type": "execute_result"
    }
   ],
   "source": [
    "data.replace('A', 'Aa')"
   ]
  },
  {
   "cell_type": "code",
   "execution_count": 85,
   "id": "f7b71697-6bea-4931-ab6d-e9d74d139248",
   "metadata": {},
   "outputs": [
    {
     "data": {
      "text/plain": [
       "'Ayush'"
      ]
     },
     "execution_count": 85,
     "metadata": {},
     "output_type": "execute_result"
    }
   ],
   "source": [
    "data"
   ]
  },
  {
   "cell_type": "code",
   "execution_count": 87,
   "id": "503f233f-d26c-439e-8486-e02d8176f26d",
   "metadata": {},
   "outputs": [
    {
     "data": {
      "text/plain": [
       "3"
      ]
     },
     "execution_count": 87,
     "metadata": {},
     "output_type": "execute_result"
    }
   ],
   "source": [
    "data.find('s')"
   ]
  },
  {
   "cell_type": "code",
   "execution_count": 88,
   "id": "e4c69620-af15-455e-a61d-175216327824",
   "metadata": {},
   "outputs": [
    {
     "data": {
      "text/plain": [
       "['__add__',\n",
       " '__class__',\n",
       " '__contains__',\n",
       " '__delattr__',\n",
       " '__dir__',\n",
       " '__doc__',\n",
       " '__eq__',\n",
       " '__format__',\n",
       " '__ge__',\n",
       " '__getattribute__',\n",
       " '__getitem__',\n",
       " '__getnewargs__',\n",
       " '__getstate__',\n",
       " '__gt__',\n",
       " '__hash__',\n",
       " '__init__',\n",
       " '__init_subclass__',\n",
       " '__iter__',\n",
       " '__le__',\n",
       " '__len__',\n",
       " '__lt__',\n",
       " '__mod__',\n",
       " '__mul__',\n",
       " '__ne__',\n",
       " '__new__',\n",
       " '__reduce__',\n",
       " '__reduce_ex__',\n",
       " '__repr__',\n",
       " '__rmod__',\n",
       " '__rmul__',\n",
       " '__setattr__',\n",
       " '__sizeof__',\n",
       " '__str__',\n",
       " '__subclasshook__',\n",
       " 'capitalize',\n",
       " 'casefold',\n",
       " 'center',\n",
       " 'count',\n",
       " 'encode',\n",
       " 'endswith',\n",
       " 'expandtabs',\n",
       " 'find',\n",
       " 'format',\n",
       " 'format_map',\n",
       " 'index',\n",
       " 'isalnum',\n",
       " 'isalpha',\n",
       " 'isascii',\n",
       " 'isdecimal',\n",
       " 'isdigit',\n",
       " 'isidentifier',\n",
       " 'islower',\n",
       " 'isnumeric',\n",
       " 'isprintable',\n",
       " 'isspace',\n",
       " 'istitle',\n",
       " 'isupper',\n",
       " 'join',\n",
       " 'ljust',\n",
       " 'lower',\n",
       " 'lstrip',\n",
       " 'maketrans',\n",
       " 'partition',\n",
       " 'removeprefix',\n",
       " 'removesuffix',\n",
       " 'replace',\n",
       " 'rfind',\n",
       " 'rindex',\n",
       " 'rjust',\n",
       " 'rpartition',\n",
       " 'rsplit',\n",
       " 'rstrip',\n",
       " 'split',\n",
       " 'splitlines',\n",
       " 'startswith',\n",
       " 'strip',\n",
       " 'swapcase',\n",
       " 'title',\n",
       " 'translate',\n",
       " 'upper',\n",
       " 'zfill']"
      ]
     },
     "execution_count": 88,
     "metadata": {},
     "output_type": "execute_result"
    }
   ],
   "source": [
    "dir(data)"
   ]
  },
  {
   "cell_type": "code",
   "execution_count": 89,
   "id": "aaf4c3aa-f101-4048-962c-6b760f534a4c",
   "metadata": {},
   "outputs": [],
   "source": [
    "# string concatenation"
   ]
  },
  {
   "cell_type": "code",
   "execution_count": 90,
   "id": "f381de5e-cb1f-4996-b62f-beec4db6ea02",
   "metadata": {},
   "outputs": [],
   "source": [
    "name1 = 'Hello'\n",
    "name2 = 'world'"
   ]
  },
  {
   "cell_type": "code",
   "execution_count": 91,
   "id": "9c65f74e-481f-4dba-be60-1dbfc899cfd7",
   "metadata": {},
   "outputs": [
    {
     "name": "stdout",
     "output_type": "stream",
     "text": [
      "Helloworld\n"
     ]
    }
   ],
   "source": [
    "result = name1 + name2\n",
    "print(result)"
   ]
  },
  {
   "cell_type": "code",
   "execution_count": 92,
   "id": "4a59c283-864b-4922-add2-643f1f08a99e",
   "metadata": {},
   "outputs": [
    {
     "data": {
      "text/plain": [
       "'HelloHelloHello'"
      ]
     },
     "execution_count": 92,
     "metadata": {},
     "output_type": "execute_result"
    }
   ],
   "source": [
    "# string repeatation\n",
    "name1 * 3"
   ]
  },
  {
   "cell_type": "code",
   "execution_count": 93,
   "id": "7e85c206-ce95-4523-9640-d8ad950090f5",
   "metadata": {},
   "outputs": [],
   "source": [
    "# Escape Sequence"
   ]
  },
  {
   "cell_type": "code",
   "execution_count": 94,
   "id": "cb645183-e5f0-4e34-98d3-e3f662ff4fcf",
   "metadata": {},
   "outputs": [
    {
     "name": "stdout",
     "output_type": "stream",
     "text": [
      "Hello World\n"
     ]
    }
   ],
   "source": [
    "print('Hello World')"
   ]
  },
  {
   "cell_type": "code",
   "execution_count": 95,
   "id": "6d7e0166-ec22-4ed4-9545-479dfa01be18",
   "metadata": {},
   "outputs": [
    {
     "name": "stdout",
     "output_type": "stream",
     "text": [
      "Hello\n",
      "World\n"
     ]
    }
   ],
   "source": [
    "print('Hello\\nWorld')"
   ]
  },
  {
   "cell_type": "code",
   "execution_count": 96,
   "id": "a18b4335-ce91-4c1e-9a2d-d67126812304",
   "metadata": {},
   "outputs": [
    {
     "name": "stdout",
     "output_type": "stream",
     "text": [
      "Hello\tWorld\n"
     ]
    }
   ],
   "source": [
    "print('Hello\\tWorld')"
   ]
  },
  {
   "cell_type": "code",
   "execution_count": 97,
   "id": "13aec62c-5673-429b-a6a8-70c8106c90b9",
   "metadata": {},
   "outputs": [
    {
     "name": "stdout",
     "output_type": "stream",
     "text": [
      "Hello'World\n"
     ]
    }
   ],
   "source": [
    "print('Hello\\'World')"
   ]
  },
  {
   "cell_type": "code",
   "execution_count": 98,
   "id": "e35ea549-3e15-4faf-b9a5-ddcb8bcacff6",
   "metadata": {},
   "outputs": [
    {
     "name": "stdout",
     "output_type": "stream",
     "text": [
      "this is first line\n",
      "this is 2nd line\n",
      "this is 3rd line\n"
     ]
    }
   ],
   "source": [
    "# docstring\n",
    "\n",
    "print('''this is first line\n",
    "this is 2nd line\n",
    "this is 3rd line''')"
   ]
  },
  {
   "cell_type": "code",
   "execution_count": 99,
   "id": "cb9a06c8-016f-451a-b254-7b9827647f82",
   "metadata": {},
   "outputs": [],
   "source": [
    "# ASCII"
   ]
  },
  {
   "cell_type": "code",
   "execution_count": 100,
   "id": "95ff60fd-57eb-4f3c-b6a4-bdeabf2d2da1",
   "metadata": {},
   "outputs": [
    {
     "data": {
      "text/plain": [
       "65"
      ]
     },
     "execution_count": 100,
     "metadata": {},
     "output_type": "execute_result"
    }
   ],
   "source": [
    "ord('A')"
   ]
  },
  {
   "cell_type": "code",
   "execution_count": 101,
   "id": "16219322-c110-480a-a28b-fcc921d9109b",
   "metadata": {},
   "outputs": [
    {
     "data": {
      "text/plain": [
       "97"
      ]
     },
     "execution_count": 101,
     "metadata": {},
     "output_type": "execute_result"
    }
   ],
   "source": [
    "ord('a')"
   ]
  },
  {
   "cell_type": "code",
   "execution_count": 102,
   "id": "02f38a50-93ea-4b8a-aaea-bba101c3ef83",
   "metadata": {},
   "outputs": [
    {
     "data": {
      "text/plain": [
       "35"
      ]
     },
     "execution_count": 102,
     "metadata": {},
     "output_type": "execute_result"
    }
   ],
   "source": [
    "ord('#')"
   ]
  },
  {
   "cell_type": "code",
   "execution_count": 103,
   "id": "6cc1efea-9401-4537-8faa-56e35a78896d",
   "metadata": {},
   "outputs": [
    {
     "data": {
      "text/plain": [
       "'-'"
      ]
     },
     "execution_count": 103,
     "metadata": {},
     "output_type": "execute_result"
    }
   ],
   "source": [
    "chr(45)"
   ]
  },
  {
   "cell_type": "code",
   "execution_count": 104,
   "id": "e2cee809-bd16-4c55-be4b-ed488451b816",
   "metadata": {},
   "outputs": [
    {
     "data": {
      "text/plain": [
       "'a'"
      ]
     },
     "execution_count": 104,
     "metadata": {},
     "output_type": "execute_result"
    }
   ],
   "source": [
    "chr(97)"
   ]
  },
  {
   "cell_type": "code",
   "execution_count": 105,
   "id": "5d3c8c58-aa83-4305-bc7a-13a041ceaee2",
   "metadata": {},
   "outputs": [
    {
     "data": {
      "text/plain": [
       "'²'"
      ]
     },
     "execution_count": 105,
     "metadata": {},
     "output_type": "execute_result"
    }
   ],
   "source": [
    "chr(178)"
   ]
  },
  {
   "cell_type": "code",
   "execution_count": 106,
   "id": "ad5afd90-9d4c-44eb-87f1-6668de85f622",
   "metadata": {},
   "outputs": [
    {
     "data": {
      "text/plain": [
       "'x²'"
      ]
     },
     "execution_count": 106,
     "metadata": {},
     "output_type": "execute_result"
    }
   ],
   "source": [
    "'x' + chr(178)"
   ]
  },
  {
   "cell_type": "code",
   "execution_count": 107,
   "id": "06954aa6-210f-41af-9f77-77aa992bd5f7",
   "metadata": {},
   "outputs": [],
   "source": [
    "# print functio"
   ]
  },
  {
   "cell_type": "code",
   "execution_count": 111,
   "id": "02d87d34-896d-4801-92db-57a9897ab959",
   "metadata": {},
   "outputs": [],
   "source": [
    "name = 'Ayush'\n",
    "marks = 78.23"
   ]
  },
  {
   "cell_type": "code",
   "execution_count": 112,
   "id": "554d538d-5789-496c-ae12-e370a019ac24",
   "metadata": {},
   "outputs": [
    {
     "name": "stdout",
     "output_type": "stream",
     "text": [
      "my name is Ayush and marks are 78.23\n"
     ]
    }
   ],
   "source": [
    "# my name is Riya and marks are 78.23\n",
    "\n",
    "print('my name is', name, 'and marks are', marks)"
   ]
  },
  {
   "cell_type": "code",
   "execution_count": 113,
   "id": "8c94bc46-814b-41ef-8570-6844efff9f7e",
   "metadata": {},
   "outputs": [
    {
     "name": "stdout",
     "output_type": "stream",
     "text": [
      "my name is Ayush and marks are 78.230000\n"
     ]
    }
   ],
   "source": [
    "# formatted print\n",
    "\n",
    "print('my name is %s and marks are %f' %(name, marks))"
   ]
  },
  {
   "cell_type": "code",
   "execution_count": 114,
   "id": "4f9e7476-dd11-43c7-a684-74d9067bed7f",
   "metadata": {},
   "outputs": [
    {
     "name": "stdout",
     "output_type": "stream",
     "text": [
      "my name is Ayush and marks are 78.230\n"
     ]
    }
   ],
   "source": [
    "print('my name is %s and marks are %.3f' %(name, marks))"
   ]
  },
  {
   "cell_type": "code",
   "execution_count": 115,
   "id": "58fa2dab-4028-4ef5-87f1-90bb5be84b70",
   "metadata": {},
   "outputs": [],
   "source": [
    "city = 'Pune'"
   ]
  },
  {
   "cell_type": "code",
   "execution_count": 116,
   "id": "0bf58160-1a2d-415a-b776-bcf1add5d443",
   "metadata": {},
   "outputs": [
    {
     "name": "stdout",
     "output_type": "stream",
     "text": [
      "Ayush 78.23 Pune\n"
     ]
    }
   ],
   "source": [
    "print(name, marks, city)"
   ]
  },
  {
   "cell_type": "code",
   "execution_count": 117,
   "id": "9aa77037-9c46-4ad7-a7e9-73739e7ae23e",
   "metadata": {},
   "outputs": [
    {
     "name": "stdout",
     "output_type": "stream",
     "text": [
      "Ayush\n",
      "78.23\n",
      "Pune\n"
     ]
    }
   ],
   "source": [
    "print(name, marks, city, sep = '\\n')"
   ]
  },
  {
   "cell_type": "code",
   "execution_count": 118,
   "id": "eedb7419-6b35-4ee6-ba47-a537e5991fec",
   "metadata": {},
   "outputs": [
    {
     "name": "stdout",
     "output_type": "stream",
     "text": [
      "Ayush\t78.23\tPune\n"
     ]
    }
   ],
   "source": [
    "print(name, marks, city, sep = '\\t')"
   ]
  },
  {
   "cell_type": "code",
   "execution_count": 119,
   "id": "9940d156-9f04-4836-8898-04da6c5f8bc8",
   "metadata": {},
   "outputs": [
    {
     "name": "stdout",
     "output_type": "stream",
     "text": [
      "Ayush*78.23*Pune\n"
     ]
    }
   ],
   "source": [
    "print(name, marks, city, sep = '*')\n"
   ]
  },
  {
   "cell_type": "code",
   "execution_count": 120,
   "id": "9ffd3c20-08ab-4dd6-a34b-62d1ae4903be",
   "metadata": {},
   "outputs": [
    {
     "name": "stdout",
     "output_type": "stream",
     "text": [
      "Ayush 78.23 Pune*"
     ]
    }
   ],
   "source": [
    "print(name, marks, city, end = '*')"
   ]
  },
  {
   "cell_type": "code",
   "execution_count": 121,
   "id": "68483e69-a505-4164-91bd-62e644e672be",
   "metadata": {},
   "outputs": [],
   "source": [
    "## operators"
   ]
  },
  {
   "cell_type": "code",
   "execution_count": 122,
   "id": "57fc8b38-c9a3-4bc4-8dae-6fb283e0c7e3",
   "metadata": {},
   "outputs": [],
   "source": [
    "# Arithmetic"
   ]
  },
  {
   "cell_type": "code",
   "execution_count": 123,
   "id": "ae2e2bc6-c8ed-40b6-8266-ef5a691b954e",
   "metadata": {},
   "outputs": [],
   "source": [
    "num1 = 12\n",
    "num2 = 5"
   ]
  },
  {
   "cell_type": "code",
   "execution_count": 124,
   "id": "e3d91899-ccef-4a92-94f1-1b14bcf85ad3",
   "metadata": {},
   "outputs": [
    {
     "data": {
      "text/plain": [
       "17"
      ]
     },
     "execution_count": 124,
     "metadata": {},
     "output_type": "execute_result"
    }
   ],
   "source": [
    "num1 + num2"
   ]
  },
  {
   "cell_type": "code",
   "execution_count": 125,
   "id": "a044799e-8b81-474c-8f52-b0effe262380",
   "metadata": {},
   "outputs": [
    {
     "data": {
      "text/plain": [
       "7"
      ]
     },
     "execution_count": 125,
     "metadata": {},
     "output_type": "execute_result"
    }
   ],
   "source": [
    "num1 - num2"
   ]
  },
  {
   "cell_type": "code",
   "execution_count": 126,
   "id": "59562b79-981c-4b08-8cc4-a7bc96d9dc4a",
   "metadata": {},
   "outputs": [
    {
     "data": {
      "text/plain": [
       "60"
      ]
     },
     "execution_count": 126,
     "metadata": {},
     "output_type": "execute_result"
    }
   ],
   "source": [
    "num1 * num2 "
   ]
  },
  {
   "cell_type": "code",
   "execution_count": 127,
   "id": "57d83bd7-bd3a-4c9c-bad2-28838b38bab5",
   "metadata": {},
   "outputs": [
    {
     "data": {
      "text/plain": [
       "2.4"
      ]
     },
     "execution_count": 127,
     "metadata": {},
     "output_type": "execute_result"
    }
   ],
   "source": [
    "num1 / num2"
   ]
  },
  {
   "cell_type": "code",
   "execution_count": 128,
   "id": "f3dad80b-84bd-4249-a836-d660c8f9dbff",
   "metadata": {},
   "outputs": [
    {
     "data": {
      "text/plain": [
       "248832"
      ]
     },
     "execution_count": 128,
     "metadata": {},
     "output_type": "execute_result"
    }
   ],
   "source": [
    "num1 ** num2"
   ]
  },
  {
   "cell_type": "code",
   "execution_count": 129,
   "id": "70087e9f-d3c0-4fa1-80f7-1fa6baf5053a",
   "metadata": {},
   "outputs": [
    {
     "data": {
      "text/plain": [
       "2"
      ]
     },
     "execution_count": 129,
     "metadata": {},
     "output_type": "execute_result"
    }
   ],
   "source": [
    "num1 // num2  # floor division"
   ]
  },
  {
   "cell_type": "code",
   "execution_count": 130,
   "id": "b19ad3f5-850a-4715-bb02-3099caf2bc74",
   "metadata": {},
   "outputs": [
    {
     "data": {
      "text/plain": [
       "2"
      ]
     },
     "execution_count": 130,
     "metadata": {},
     "output_type": "execute_result"
    }
   ],
   "source": [
    "num1 % num2   # mod => remainder"
   ]
  },
  {
   "cell_type": "code",
   "execution_count": 131,
   "id": "4d9892fc-9b86-43cf-a644-c4fffa79c309",
   "metadata": {},
   "outputs": [],
   "source": [
    "# Relational operators"
   ]
  },
  {
   "cell_type": "code",
   "execution_count": 132,
   "id": "c2a8db44-ab89-4dfe-a614-437edb232170",
   "metadata": {},
   "outputs": [
    {
     "data": {
      "text/plain": [
       "True"
      ]
     },
     "execution_count": 132,
     "metadata": {},
     "output_type": "execute_result"
    }
   ],
   "source": [
    "num1 > num2"
   ]
  },
  {
   "cell_type": "code",
   "execution_count": 133,
   "id": "ae3b9b45-969e-4aca-8290-29822e15edeb",
   "metadata": {},
   "outputs": [
    {
     "data": {
      "text/plain": [
       "False"
      ]
     },
     "execution_count": 133,
     "metadata": {},
     "output_type": "execute_result"
    }
   ],
   "source": [
    "num1 <= num2"
   ]
  },
  {
   "cell_type": "code",
   "execution_count": 134,
   "id": "26dadaa1-f2c6-45b8-8c30-0600cba8b919",
   "metadata": {},
   "outputs": [
    {
     "data": {
      "text/plain": [
       "False"
      ]
     },
     "execution_count": 134,
     "metadata": {},
     "output_type": "execute_result"
    }
   ],
   "source": [
    "num1 == num2"
   ]
  },
  {
   "cell_type": "code",
   "execution_count": 135,
   "id": "128aac18-1469-4f31-8e25-4d1e1a95c025",
   "metadata": {},
   "outputs": [
    {
     "data": {
      "text/plain": [
       "True"
      ]
     },
     "execution_count": 135,
     "metadata": {},
     "output_type": "execute_result"
    }
   ],
   "source": [
    "num1 != num2"
   ]
  },
  {
   "cell_type": "code",
   "execution_count": 136,
   "id": "96af7529-cc55-4a35-a600-d186e594bb91",
   "metadata": {},
   "outputs": [],
   "source": [
    "# logical"
   ]
  },
  {
   "cell_type": "code",
   "execution_count": 137,
   "id": "be2b184d-53b8-4356-aa61-835c98c3e844",
   "metadata": {},
   "outputs": [
    {
     "data": {
      "text/plain": [
       "True"
      ]
     },
     "execution_count": 137,
     "metadata": {},
     "output_type": "execute_result"
    }
   ],
   "source": [
    "num1 > num2 and num1 > 0"
   ]
  },
  {
   "cell_type": "code",
   "execution_count": 138,
   "id": "c0f83b8e-cec2-4007-9224-f5de5217e125",
   "metadata": {},
   "outputs": [
    {
     "data": {
      "text/plain": [
       "True"
      ]
     },
     "execution_count": 138,
     "metadata": {},
     "output_type": "execute_result"
    }
   ],
   "source": [
    "num1 > num2 or num1 > 1000"
   ]
  },
  {
   "cell_type": "code",
   "execution_count": 139,
   "id": "abd4434c-3faf-414c-a351-4ab054ac39cd",
   "metadata": {},
   "outputs": [
    {
     "data": {
      "text/plain": [
       "False"
      ]
     },
     "execution_count": 139,
     "metadata": {},
     "output_type": "execute_result"
    }
   ],
   "source": [
    "num1 > num2 and num1 > 1000"
   ]
  },
  {
   "cell_type": "code",
   "execution_count": 140,
   "id": "6032382b-1ceb-460f-80c3-1812e7431fd0",
   "metadata": {},
   "outputs": [],
   "source": [
    "# Assignment Operator"
   ]
  },
  {
   "cell_type": "code",
   "execution_count": 141,
   "id": "bff8e039-a566-4ae4-a6c6-1a66d7502f64",
   "metadata": {},
   "outputs": [],
   "source": [
    "num = 20"
   ]
  },
  {
   "cell_type": "code",
   "execution_count": 142,
   "id": "721920b2-45aa-4047-9460-6ce2e96abcaf",
   "metadata": {},
   "outputs": [
    {
     "data": {
      "text/plain": [
       "20"
      ]
     },
     "execution_count": 142,
     "metadata": {},
     "output_type": "execute_result"
    }
   ],
   "source": [
    "num"
   ]
  },
  {
   "cell_type": "code",
   "execution_count": 143,
   "id": "5f4e1c82-0ab4-4565-9404-152ccde69a3b",
   "metadata": {},
   "outputs": [],
   "source": [
    "num += 10  # => num = num + 10"
   ]
  },
  {
   "cell_type": "code",
   "execution_count": 144,
   "id": "a59f83bd-e2a9-4748-a38d-d1c35e518a9f",
   "metadata": {},
   "outputs": [
    {
     "data": {
      "text/plain": [
       "30"
      ]
     },
     "execution_count": 144,
     "metadata": {},
     "output_type": "execute_result"
    }
   ],
   "source": [
    "num"
   ]
  },
  {
   "cell_type": "code",
   "execution_count": 145,
   "id": "9efa0a89-1e2d-4908-a18b-49bf874288c6",
   "metadata": {},
   "outputs": [],
   "source": [
    "# membership selection"
   ]
  },
  {
   "cell_type": "code",
   "execution_count": 146,
   "id": "9a923ab9-5558-458d-a052-88a9b3378779",
   "metadata": {},
   "outputs": [
    {
     "data": {
      "text/plain": [
       "'Ayush'"
      ]
     },
     "execution_count": 146,
     "metadata": {},
     "output_type": "execute_result"
    }
   ],
   "source": [
    "name"
   ]
  },
  {
   "cell_type": "code",
   "execution_count": 147,
   "id": "9c8b1cc5-802c-48e3-ac35-dc4d82558b02",
   "metadata": {},
   "outputs": [
    {
     "data": {
      "text/plain": [
       "True"
      ]
     },
     "execution_count": 147,
     "metadata": {},
     "output_type": "execute_result"
    }
   ],
   "source": [
    "'y' in name"
   ]
  },
  {
   "cell_type": "code",
   "execution_count": 148,
   "id": "b2717c02-49ac-44bb-91cb-b0ab5ef6991b",
   "metadata": {},
   "outputs": [
    {
     "data": {
      "text/plain": [
       "False"
      ]
     },
     "execution_count": 148,
     "metadata": {},
     "output_type": "execute_result"
    }
   ],
   "source": [
    "'Y' in name"
   ]
  },
  {
   "cell_type": "code",
   "execution_count": 149,
   "id": "db4c38ee-1ffc-4108-adb2-f5154367e5a3",
   "metadata": {},
   "outputs": [
    {
     "data": {
      "text/plain": [
       "False"
      ]
     },
     "execution_count": 149,
     "metadata": {},
     "output_type": "execute_result"
    }
   ],
   "source": [
    "'y' not in name"
   ]
  },
  {
   "cell_type": "code",
   "execution_count": 150,
   "id": "aa7e4240-242c-4e5f-a4ed-f48dffa7d936",
   "metadata": {},
   "outputs": [],
   "source": [
    "# type casting"
   ]
  },
  {
   "cell_type": "code",
   "execution_count": 151,
   "id": "247ca5e8-2f20-473e-8dcb-6d6227b09d2c",
   "metadata": {},
   "outputs": [],
   "source": [
    "name = 'Ayush'\n",
    "data = '1234'\n",
    "num = 34\n",
    "num1 = 50.53"
   ]
  },
  {
   "cell_type": "code",
   "execution_count": 152,
   "id": "3c5757bc-6788-42a2-8680-7db6f7531726",
   "metadata": {},
   "outputs": [
    {
     "data": {
      "text/plain": [
       "1234"
      ]
     },
     "execution_count": 152,
     "metadata": {},
     "output_type": "execute_result"
    }
   ],
   "source": [
    "int(data)"
   ]
  },
  {
   "cell_type": "code",
   "execution_count": 153,
   "id": "1a1ea412-87a3-42da-b013-934fd060dc68",
   "metadata": {},
   "outputs": [
    {
     "data": {
      "text/plain": [
       "34.0"
      ]
     },
     "execution_count": 153,
     "metadata": {},
     "output_type": "execute_result"
    }
   ],
   "source": [
    "float(num)"
   ]
  },
  {
   "cell_type": "code",
   "execution_count": 154,
   "id": "8eafbc3e-d889-4a5c-93b4-b536fd8364fb",
   "metadata": {},
   "outputs": [
    {
     "data": {
      "text/plain": [
       "50"
      ]
     },
     "execution_count": 154,
     "metadata": {},
     "output_type": "execute_result"
    }
   ],
   "source": [
    "int(num1)"
   ]
  },
  {
   "cell_type": "code",
   "execution_count": 155,
   "id": "d5cb842d-3de3-4807-824e-58fe6136bd65",
   "metadata": {},
   "outputs": [
    {
     "data": {
      "text/plain": [
       "'50.53'"
      ]
     },
     "execution_count": 155,
     "metadata": {},
     "output_type": "execute_result"
    }
   ],
   "source": [
    "str(num1)"
   ]
  },
  {
   "cell_type": "code",
   "execution_count": 156,
   "id": "c45401ae-123c-489e-ac62-657ebf8f6ebe",
   "metadata": {},
   "outputs": [],
   "source": [
    "name = 'Ayush'\n",
    "data = 72"
   ]
  },
  {
   "cell_type": "code",
   "execution_count": 157,
   "id": "6aa5c82f-df13-4549-afb1-7f3dc0a1135f",
   "metadata": {},
   "outputs": [],
   "source": [
    "password = name + str(data)"
   ]
  },
  {
   "cell_type": "code",
   "execution_count": 158,
   "id": "5228b46d-110c-4415-9558-208fad6a2c65",
   "metadata": {},
   "outputs": [
    {
     "data": {
      "text/plain": [
       "'Ayush72'"
      ]
     },
     "execution_count": 158,
     "metadata": {},
     "output_type": "execute_result"
    }
   ],
   "source": [
    "password"
   ]
  },
  {
   "cell_type": "code",
   "execution_count": 159,
   "id": "f5366212-463e-4635-8d28-76088db892e6",
   "metadata": {},
   "outputs": [],
   "source": [
    "# user input"
   ]
  },
  {
   "cell_type": "code",
   "execution_count": 160,
   "id": "867ef94e-d342-404d-acab-66011beabbba",
   "metadata": {},
   "outputs": [
    {
     "name": "stdin",
     "output_type": "stream",
     "text": [
      "Enter the 1st number  1\n",
      "Enter the 2nd number  2\n"
     ]
    },
    {
     "name": "stdout",
     "output_type": "stream",
     "text": [
      "Addition is: 3\n"
     ]
    }
   ],
   "source": [
    "num1 = int(input('Enter the 1st number '))\n",
    "num2 = int(input('Enter the 2nd number '))\n",
    "result = num1 + num2\n",
    "print('Addition is:', result)"
   ]
  },
  {
   "cell_type": "code",
   "execution_count": null,
   "id": "261648ac-ef42-41a1-97b9-781bad0151ac",
   "metadata": {},
   "outputs": [],
   "source": []
  }
 ],
 "metadata": {
  "kernelspec": {
   "display_name": "Python 3 (ipykernel)",
   "language": "python",
   "name": "python3"
  },
  "language_info": {
   "codemirror_mode": {
    "name": "ipython",
    "version": 3
   },
   "file_extension": ".py",
   "mimetype": "text/x-python",
   "name": "python",
   "nbconvert_exporter": "python",
   "pygments_lexer": "ipython3",
   "version": "3.11.7"
  }
 },
 "nbformat": 4,
 "nbformat_minor": 5
}
